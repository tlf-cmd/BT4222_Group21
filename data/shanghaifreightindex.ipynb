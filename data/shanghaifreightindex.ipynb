{
 "cells": [
  {
   "attachments": {},
   "cell_type": "markdown",
   "metadata": {},
   "source": []
  },
  {
   "cell_type": "code",
   "execution_count": 27,
   "metadata": {},
   "outputs": [
    {
     "name": "stderr",
     "output_type": "stream",
     "text": [
      "/var/folders/27/xh3tm0h964n5gjzv1brx5vrc0000gn/T/ipykernel_33757/738688536.py:10: DeprecationWarning: executable_path has been deprecated, please pass in a Service object\n",
      "  driver = webdriver.Chrome('/Users/yongler/chromedriver_mac64/chromedriver')\n"
     ]
    },
    {
     "name": "stdout",
     "output_type": "stream",
     "text": [
      "{'x': 15, 'y': 153}\n",
      "{'height': 470, 'width': 835}\n"
     ]
    }
   ],
   "source": [
    "from selenium.webdriver.support.ui import WebDriverWait\n",
    "from selenium.webdriver.support import expected_conditions as EC\n",
    "from selenium.webdriver.common.by import By\n",
    "from selenium import webdriver\n",
    "import datetime as dt\n",
    "import pandas as pd\n",
    "\n",
    "# Opening the connection and grabbing the page\n",
    "my_url = 'https://en.macromicro.me/charts/947/commodity-ccfi-scfi'\n",
    "driver = webdriver.Chrome('/Users/yongler/chromedriver_mac64/chromedriver')\n",
    "driver.get(my_url)\n",
    "\n",
    "\n",
    "graph = WebDriverWait(driver,\n",
    "                           10).until(EC.element_to_be_clickable((By.XPATH, '//*[@id=\"ccApp\"]/div/div[2]/div[1]/div/div[1]')))\n",
    "action = webdriver.ActionChains(driver)\n",
    "loc = graph.location\n",
    "size = graph.size\n",
    "print(loc)\n",
    "print(size)\n",
    "\n",
    "action.move_to_element_with_offset(graph, size['width'], 0).perform()"
   ]
  },
  {
   "cell_type": "code",
   "execution_count": null,
   "metadata": {},
   "outputs": [],
   "source": []
  }
 ],
 "metadata": {
  "kernelspec": {
   "display_name": "base",
   "language": "python",
   "name": "python3"
  },
  "language_info": {
   "codemirror_mode": {
    "name": "ipython",
    "version": 3
   },
   "file_extension": ".py",
   "mimetype": "text/x-python",
   "name": "python",
   "nbconvert_exporter": "python",
   "pygments_lexer": "ipython3",
   "version": "3.9.7"
  },
  "orig_nbformat": 4
 },
 "nbformat": 4,
 "nbformat_minor": 2
}
