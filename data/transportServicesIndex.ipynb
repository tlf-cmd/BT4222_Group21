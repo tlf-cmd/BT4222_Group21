{
 "cells": [
  {
   "cell_type": "code",
   "execution_count": 2,
   "metadata": {},
   "outputs": [],
   "source": [
    "import pandas as pd\n",
    "from fredapi import Fred"
   ]
  },
  {
   "cell_type": "code",
   "execution_count": 3,
   "metadata": {},
   "outputs": [],
   "source": [
    "filename = \"keys/fredapikey.txt\"\n",
    "\n",
    "with open(filename, 'r') as f:\n",
    "    api = f.read()\n",
    "\n",
    "fred = Fred(api_key=api)"
   ]
  },
  {
   "attachments": {},
   "cell_type": "markdown",
   "metadata": {},
   "source": [
    "## Economic Indicators\n",
    "### 1. Freight Transportation Services Index (TSIFRGHT) - Unit: Index (2000=100)\n",
    "- The Freight Transportation Services Index (TSI) is a monthly economic indicator published by the Bureau of Transportation Statistics in the United States Department of Transportation. The index measures the month-to-month changes in the amount of freight transported by for-hire transportation providers in the United States, including rail, trucking, inland waterways, pipelines, and air freight.\n",
    "\n",
    "### 2. Passenger Transportation Services Index (TSIPSNGR) - Unit: Index (2000=100)\n",
    "- The Passenger Transportation Services Index (TSI) is another monthly economic indicator published by the Bureau of Transportation Statistics in the United States Department of Transportation. It measures the month-to-month changes in the amount of passenger transportation provided by for-hire transportation providers in the United States, including air, rail, transit, and intercity bus.\n",
    "\n",
    "### 3. Public Transit Ridership (TRANSITD11) — Unit: Thousands of Unlinked Trips\n",
    "- Public Transit Ridership (TRANSIT) is a data series maintained by the Federal Transit Administration (FTA) in the United States. The series provides monthly estimates of the number of unlinked passenger trips on public transit systems in urbanized areas and certain other regions of the country.\n",
    "\n",
    "### Note that they are all seasonally-adjusted so as to strip away seasonal effect for more accurate comparisons"
   ]
  },
  {
   "cell_type": "code",
   "execution_count": 4,
   "metadata": {},
   "outputs": [
    {
     "data": {
      "text/html": [
       "<div>\n",
       "<style scoped>\n",
       "    .dataframe tbody tr th:only-of-type {\n",
       "        vertical-align: middle;\n",
       "    }\n",
       "\n",
       "    .dataframe tbody tr th {\n",
       "        vertical-align: top;\n",
       "    }\n",
       "\n",
       "    .dataframe thead th {\n",
       "        text-align: right;\n",
       "    }\n",
       "</style>\n",
       "<table border=\"1\" class=\"dataframe\">\n",
       "  <thead>\n",
       "    <tr style=\"text-align: right;\">\n",
       "      <th></th>\n",
       "      <th>Freight Transportation Services Index (2000=100)</th>\n",
       "      <th>Passenger Transportation Services Index (2000=100)</th>\n",
       "      <th>Public Transit Ridership (thousands)</th>\n",
       "    </tr>\n",
       "  </thead>\n",
       "  <tbody>\n",
       "    <tr>\n",
       "      <th>2019-01-01</th>\n",
       "      <td>138.8</td>\n",
       "      <td>131.6</td>\n",
       "      <td>806749.0</td>\n",
       "    </tr>\n",
       "    <tr>\n",
       "      <th>2019-02-01</th>\n",
       "      <td>138.0</td>\n",
       "      <td>132.4</td>\n",
       "      <td>811806.0</td>\n",
       "    </tr>\n",
       "    <tr>\n",
       "      <th>2019-03-01</th>\n",
       "      <td>138.0</td>\n",
       "      <td>135.3</td>\n",
       "      <td>817892.0</td>\n",
       "    </tr>\n",
       "    <tr>\n",
       "      <th>2019-04-01</th>\n",
       "      <td>138.9</td>\n",
       "      <td>133.0</td>\n",
       "      <td>821146.0</td>\n",
       "    </tr>\n",
       "    <tr>\n",
       "      <th>2019-05-01</th>\n",
       "      <td>139.3</td>\n",
       "      <td>134.6</td>\n",
       "      <td>825573.0</td>\n",
       "    </tr>\n",
       "  </tbody>\n",
       "</table>\n",
       "</div>"
      ],
      "text/plain": [
       "            Freight Transportation Services Index (2000=100)  \\\n",
       "2019-01-01                                             138.8   \n",
       "2019-02-01                                             138.0   \n",
       "2019-03-01                                             138.0   \n",
       "2019-04-01                                             138.9   \n",
       "2019-05-01                                             139.3   \n",
       "\n",
       "            Passenger Transportation Services Index (2000=100)  \\\n",
       "2019-01-01                                              131.6    \n",
       "2019-02-01                                              132.4    \n",
       "2019-03-01                                              135.3    \n",
       "2019-04-01                                              133.0    \n",
       "2019-05-01                                              134.6    \n",
       "\n",
       "            Public Transit Ridership (thousands)  \n",
       "2019-01-01                              806749.0  \n",
       "2019-02-01                              811806.0  \n",
       "2019-03-01                              817892.0  \n",
       "2019-04-01                              821146.0  \n",
       "2019-05-01                              825573.0  "
      ]
     },
     "execution_count": 4,
     "metadata": {},
     "output_type": "execute_result"
    }
   ],
   "source": [
    "INDICATORS = {\n",
    "    \"TSIFRGHT\": \"Freight Transportation Services Index (2000=100)\",\n",
    "    \"TSIPSNGR\": \"Passenger Transportation Services Index (2000=100)\",\n",
    "    \"TRANSITD11\": \"Public Transit Ridership (thousands)\",\n",
    "}\n",
    "\n",
    "\n",
    "START_DATE = '2019-01-01'\n",
    "END_DATE = '2022-12-31'\n",
    "\n",
    "transport_df = pd.DataFrame()\n",
    "\n",
    "for indicator, indicator_name in INDICATORS.items():\n",
    "    data = fred.get_series(indicator, observation_start=START_DATE, observation_end = END_DATE).rename(indicator_name)\n",
    "    df = pd.DataFrame(data)\n",
    "\n",
    "    if transport_df.empty:\n",
    "        transport_df = df\n",
    "    else:\n",
    "        transport_df = pd.concat([transport_df, df], axis=1)\n",
    "        \n",
    "transport_df.head()\n"
   ]
  },
  {
   "cell_type": "code",
   "execution_count": 5,
   "metadata": {},
   "outputs": [],
   "source": [
    "# Saving data into csv file\n",
    "transport_df.to_csv(\"extracted/transportServicesIndex_2019_2022.csv\")"
   ]
  },
  {
   "cell_type": "code",
   "execution_count": null,
   "metadata": {},
   "outputs": [],
   "source": []
  }
 ],
 "metadata": {
  "kernelspec": {
   "display_name": "Python 3",
   "language": "python",
   "name": "python3"
  },
  "language_info": {
   "codemirror_mode": {
    "name": "ipython",
    "version": 3
   },
   "file_extension": ".py",
   "mimetype": "text/x-python",
   "name": "python",
   "nbconvert_exporter": "python",
   "pygments_lexer": "ipython3",
   "version": "3.9.7"
  },
  "orig_nbformat": 4
 },
 "nbformat": 4,
 "nbformat_minor": 2
}
