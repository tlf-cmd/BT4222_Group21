{
 "cells": [
  {
   "cell_type": "code",
   "execution_count": null,
   "metadata": {},
   "outputs": [],
   "source": [
    "!pip install PyPDF2\n",
    "!pip install ntlk"
   ]
  },
  {
   "attachments": {},
   "cell_type": "markdown",
   "metadata": {},
   "source": [
    "### 1. Create Helper Function to Extract Text from PDF\n",
    "- Use PyPDF to read PDF and extract text"
   ]
  },
  {
   "cell_type": "code",
   "execution_count": 22,
   "metadata": {},
   "outputs": [],
   "source": [
    "import PyPDF2\n",
    "\n",
    "def pdfToText(pdfFilePath, outputFilePath):\n",
    "    print(f\"Processing {pdfFilePath}\")\n",
    "    # Open the PDF file\n",
    "    pdf_file = open(pdfFilePath, 'rb')\n",
    "\n",
    "    # Create a PDF reader object\n",
    "    reader = PyPDF2.PdfReader(pdf_file)\n",
    "\n",
    "    # Get the number of pages in the PDF file\n",
    "    num_pages = len(reader.pages)\n",
    "\n",
    "    # Initialize a string variable to hold the text\n",
    "    text = \"\"\n",
    "\n",
    "    # Iterate through all the pages and extract text\n",
    "    for page_num in range(num_pages):\n",
    "        page_obj = reader.pages[page_num]\n",
    "        text += page_obj.extract_text()\n",
    "\n",
    "    # Close the PDF file\n",
    "    pdf_file.close()\n",
    "\n",
    "    # Open the file in write mode\n",
    "    with open(outputFilePath, 'w') as f:\n",
    "        # Write the text to the file\n",
    "        f.write(text)\n",
    "\n",
    "    # Print a message to confirm that the file has been saved\n",
    "    print(f\"Text saved to {outputFilePath}.\")"
   ]
  },
  {
   "attachments": {},
   "cell_type": "markdown",
   "metadata": {},
   "source": [
    "### 2. Run the helper function on each ESG report and store them as a dataframe \n",
    "- Each row represent a sentence\n",
    "- Save them as CSV files"
   ]
  },
  {
   "cell_type": "code",
   "execution_count": 23,
   "metadata": {},
   "outputs": [],
   "source": [
    "import unicodedata\n",
    "def remove_non_english_chars(text):\n",
    "    # normalize text and check if ASCII value more than 128 (non-english words)\n",
    "    return ''.join(c for c in unicodedata.normalize('NFD', text)\n",
    "                   if unicodedata.category(c) != 'Mn' and\n",
    "                   ord(c) < 128)"
   ]
  },
  {
   "cell_type": "code",
   "execution_count": 24,
   "metadata": {},
   "outputs": [
    {
     "name": "stdout",
     "output_type": "stream",
     "text": [
      "Processing ESG_reports/NKE_2021.pdf\n",
      "Text saved to pdf_text/NKE_2021.csv.\n",
      "Processing ESG_reports/WFC_2022.pdf\n",
      "Text saved to pdf_text/WFC_2022.csv.\n",
      "Processing ESG_reports/QCOM_2022.pdf\n",
      "Text saved to pdf_text/QCOM_2022.csv.\n",
      "Processing ESG_reports/ABT_2021.pdf\n",
      "Text saved to pdf_text/ABT_2021.csv.\n",
      "Processing ESG_reports/BMY_2021.pdf\n",
      "Text saved to pdf_text/BMY_2021.csv.\n",
      "Processing ESG_reports/MCD_2020.pdf\n",
      "Text saved to pdf_text/MCD_2020.csv.\n",
      "Processing ESG_reports/DHR_2022.pdf\n",
      "Text saved to pdf_text/DHR_2022.csv.\n",
      "Processing ESG_reports/T_2022.pdf\n",
      "Text saved to pdf_text/T_2022.csv.\n",
      "Processing ESG_reports/PM_2022.pdf\n",
      "Text saved to pdf_text/PM_2022.csv.\n",
      "Processing ESG_reports/DIS_2022.pdf\n",
      "Text saved to pdf_text/DIS_2022.csv.\n",
      "Processing ESG_reports/UPS_2021.pdf\n",
      "Text saved to pdf_text/UPS_2021.csv.\n",
      "Processing ESG_reports/AMD_2021.pdf\n",
      "Text saved to pdf_text/AMD_2021.csv.\n",
      "Processing ESG_reports/ADBE_2021.pdf\n",
      "Text saved to pdf_text/ADBE_2021.csv.\n",
      "Processing ESG_reports/CSCO_2022.pdf\n",
      "Text saved to pdf_text/CSCO_2022.csv.\n",
      "Processing ESG_reports/TXN_2021.pdf\n",
      "Text saved to pdf_text/TXN_2021.csv.\n",
      "Processing ESG_reports/ACN_2022.pdf\n",
      "Text saved to pdf_text/ACN_2022.csv.\n",
      "Processing ESG_reports/RTX_2021.pdf\n",
      "Text saved to pdf_text/RTX_2021.csv.\n",
      "Processing ESG_reports/BAC_2022.pdf\n",
      "Text saved to pdf_text/BAC_2022.csv.\n",
      "Processing ESG_reports/CMCSA_2022.pdf\n",
      "Text saved to pdf_text/CMCSA_2022.csv.\n",
      "Processing ESG_reports/NEE_2022.pdf\n",
      "Text saved to pdf_text/NEE_2022.csv.\n",
      "Processing ESG_reports/NFLX_2021.pdf\n",
      "Text saved to pdf_text/NFLX_2021.csv.\n",
      "Processing ESG_reports/LIN_2021.pdf\n",
      "Text saved to pdf_text/LIN_2021.csv.\n",
      "Processing ESG_reports/AMGN_2021.pdf\n",
      "Text saved to pdf_text/AMGN_2021.csv.\n",
      "Processing ESG_reports/INTC_2022.pdf\n",
      "Text saved to pdf_text/INTC_2022.csv.\n",
      "Processing ESG_reports/VZ_2022.pdf\n",
      "Text saved to pdf_text/VZ_2022.csv.\n"
     ]
    }
   ],
   "source": [
    "import os\n",
    "import re\n",
    "import nltk\n",
    "import pandas as pd\n",
    "\n",
    "input_folder = 'ESG_reports'\n",
    "\n",
    "if not os.path.exists(\"pdf_text\"):\n",
    "    os.makedirs(\"pdf_text\")\n",
    "\n",
    "for filename in os.listdir(input_folder):\n",
    "    if filename == \".DS_Store\":\n",
    "        continue\n",
    "    input_filename = input_folder + \"/\" + filename\n",
    "    output_folder = \"pdf_text\"\n",
    "    output_filename = output_folder + \"/\" + filename.replace(\".pdf\", \".csv\")\n",
    "    pdfToText(input_filename, output_filename)  \n",
    "    \n",
    "    # read the text file\n",
    "    with open(output_filename, 'r') as f:\n",
    "        text = f.read()\n",
    "\n",
    "    # clean the data\n",
    "    text = remove_non_english_chars(text)\n",
    "    text = re.sub(r'\\n', ' ', text)  # remove line breaks\n",
    "    text = re.sub(r'\\s+', ' ', text)  # remove multiple spaces\n",
    "    sentences = nltk.sent_tokenize(text) # split the text into sentences\n",
    "    processed_sentences = []\n",
    "    for sentence in sentences:\n",
    "        sentence = re.sub(r\"\\d+\\n\", \"\", sentence) # Remove page number\n",
    "        sentence = re.sub(r\"\\n\", \" \", sentence) # Remove line breaks \n",
    "        sentence = re.sub(r\"\\.(\\s*\\.){1,}\", \". \", sentence) # Remove consecutive periods\n",
    "        split_sentences = re.split(\"(?<!\\w\\.\\w.)(?<![A-Z][a-z]\\.)(?<=\\.|\\?|\\!)(?<!\\d\\.)\\s*(?=[A-Z])\", sentence) # split text into sentences\n",
    "        \n",
    "        split_sentences = [s for s in split_sentences if s != \"\" and s != \".\"] # do not include empty sentences or \".\"\n",
    "        processed_sentences.extend(split_sentences)\n",
    "\n",
    "    # create a dataframe\n",
    "    df = pd.DataFrame({'sentences': processed_sentences})\n",
    "    df.to_csv(output_filename, index=False)"
   ]
  },
  {
   "cell_type": "code",
   "execution_count": null,
   "metadata": {},
   "outputs": [],
   "source": []
  }
 ],
 "metadata": {
  "kernelspec": {
   "display_name": "Python 3",
   "language": "python",
   "name": "python3"
  },
  "language_info": {
   "codemirror_mode": {
    "name": "ipython",
    "version": 3
   },
   "file_extension": ".py",
   "mimetype": "text/x-python",
   "name": "python",
   "nbconvert_exporter": "python",
   "pygments_lexer": "ipython3",
   "version": "3.7.7"
  },
  "orig_nbformat": 4,
  "vscode": {
   "interpreter": {
    "hash": "aee8b7b246df8f9039afb4144a1f6fd8d2ca17a180786b69acc140d282b71a49"
   }
  }
 },
 "nbformat": 4,
 "nbformat_minor": 2
}
