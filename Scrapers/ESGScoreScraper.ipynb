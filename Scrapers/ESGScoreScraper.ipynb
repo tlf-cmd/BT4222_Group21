{
 "cells": [
  {
   "cell_type": "code",
   "execution_count": 1,
   "metadata": {},
   "outputs": [
    {
     "name": "stdout",
     "output_type": "stream",
     "text": [
      "Requirement already satisfied: selenium in /opt/anaconda3/lib/python3.9/site-packages (4.8.2)\n",
      "Requirement already satisfied: trio-websocket~=0.9 in /opt/anaconda3/lib/python3.9/site-packages (from selenium) (0.10.2)\n",
      "Requirement already satisfied: certifi>=2021.10.8 in /opt/anaconda3/lib/python3.9/site-packages (from selenium) (2022.9.24)\n",
      "Requirement already satisfied: trio~=0.17 in /opt/anaconda3/lib/python3.9/site-packages (from selenium) (0.22.0)\n",
      "Requirement already satisfied: urllib3[socks]~=1.26 in /opt/anaconda3/lib/python3.9/site-packages (from selenium) (1.26.7)\n",
      "Requirement already satisfied: outcome in /opt/anaconda3/lib/python3.9/site-packages (from trio~=0.17->selenium) (1.2.0)\n",
      "Requirement already satisfied: exceptiongroup>=1.0.0rc9 in /opt/anaconda3/lib/python3.9/site-packages (from trio~=0.17->selenium) (1.1.1)\n",
      "Requirement already satisfied: idna in /opt/anaconda3/lib/python3.9/site-packages (from trio~=0.17->selenium) (3.2)\n",
      "Requirement already satisfied: sniffio in /opt/anaconda3/lib/python3.9/site-packages (from trio~=0.17->selenium) (1.2.0)\n",
      "Requirement already satisfied: attrs>=19.2.0 in /opt/anaconda3/lib/python3.9/site-packages (from trio~=0.17->selenium) (21.2.0)\n",
      "Requirement already satisfied: async-generator>=1.9 in /opt/anaconda3/lib/python3.9/site-packages (from trio~=0.17->selenium) (1.10)\n",
      "Requirement already satisfied: sortedcontainers in /opt/anaconda3/lib/python3.9/site-packages (from trio~=0.17->selenium) (2.4.0)\n",
      "Requirement already satisfied: wsproto>=0.14 in /opt/anaconda3/lib/python3.9/site-packages (from trio-websocket~=0.9->selenium) (1.2.0)\n",
      "Requirement already satisfied: PySocks!=1.5.7,<2.0,>=1.5.6 in /opt/anaconda3/lib/python3.9/site-packages (from urllib3[socks]~=1.26->selenium) (1.7.1)\n",
      "Requirement already satisfied: h11<1,>=0.9.0 in /opt/anaconda3/lib/python3.9/site-packages (from wsproto>=0.14->trio-websocket~=0.9->selenium) (0.14.0)\n"
     ]
    }
   ],
   "source": [
    "!pip install selenium"
   ]
  },
  {
   "cell_type": "code",
   "execution_count": 1,
   "metadata": {},
   "outputs": [],
   "source": [
    "import pandas as pd\n",
    "import numpy as np"
   ]
  },
  {
   "cell_type": "code",
   "execution_count": 2,
   "metadata": {},
   "outputs": [
    {
     "name": "stderr",
     "output_type": "stream",
     "text": [
      "/var/folders/27/xh3tm0h964n5gjzv1brx5vrc0000gn/T/ipykernel_19897/2696603971.py:7: DeprecationWarning: executable_path has been deprecated, please pass in a Service object\n",
      "  driver = webdriver.Chrome(\"/chromedriver\")\n"
     ]
    },
    {
     "name": "stdout",
     "output_type": "stream",
     "text": [
      "unable to scrape JNJ\n"
     ]
    }
   ],
   "source": [
    "from selenium import webdriver\n",
    "from selenium.webdriver.common.keys import Keys\n",
    "from selenium.webdriver.common.by import By\n",
    "from bs4 import BeautifulSoup\n",
    "import time\n",
    "\n",
    "driver = webdriver.Chrome(\"/chromedriver\")\n",
    "driver.get(\"https://www.spglobal.com/esg/scores/\")\n",
    "time.sleep(3)\n",
    "click_accept = driver.find_elements(By.XPATH, '//*[@id=\"onetrust-accept-btn-handler\"]')\n",
    "click_accept[0].click()\n",
    "\n",
    "historical_scores = {}\n",
    "companies = {\n",
    "    \"AAPL\": \"Apple Inc.\",\n",
    "    \"AMZN\": \"Amazon.com, Inc.\",\n",
    "    \"BRK\": \"Berkshire Hathaway Inc.\",\n",
    "    \"CVX\": \"Chevron Corporation\",\n",
    "    \"GOOGL\": \"Alphabet Inc.\",\n",
    "    \"HD\": \"The Home Depot, Inc.\",\n",
    "    \"JNJ\": \"Johnson & Johnson\",\n",
    "    \"MRK\": \"Merck & Co., Inc.\",\n",
    "    \"MSFT\": \"Microsoft Corporation\",\n",
    "    \"NVDA\": \"NVIDIA Corporation\",\n",
    "    \"PG\": \"The Procter & Gamble Company\",\n",
    "    \"TSLA\": \"Tesla, Inc.\",\n",
    "    \"UNH\": \"UnitedHealth Group Incorporated\",\n",
    "    \"V\": \"Visa Inc.\",\n",
    "    \"XOM\": \"Exxon Mobil Corporation\"\n",
    "}\n",
    "\n",
    "\n",
    "i = 1\n",
    "for ticker, name in companies.items():\n",
    "    if i == 1:\n",
    "        search_box = driver.find_elements(By.XPATH, \"/html/body/div[3]/div[11]/div/div[3]/div/div/div[2]/div[1]/input\")\n",
    "        search_box[0].send_keys(name)\n",
    "    else:\n",
    "        search_box = driver.find_elements(By.XPATH, \"/html/body/div[3]/div[1]/div[3]/div/div/div[2]/div[1]/input\")\n",
    "        search_box[0].send_keys(name)\n",
    "    time.sleep(1)\n",
    "    search_box[0].send_keys(Keys.ENTER)\n",
    "    time.sleep(5)\n",
    "\n",
    "    try:\n",
    "        ESG_score = driver.find_elements(By.XPATH, '//*[@id=\"esg-score\"]')[0].text\n",
    "        time.sleep(3)\n",
    "\n",
    "        historical_scores[ticker] = []\n",
    "\n",
    "        soup = BeautifulSoup(driver.page_source, 'html.parser')\n",
    "        historical_chart = soup.find('g', {'class': 'highcharts-markers highcharts-series-0 highcharts-line-series highcharts-tracker'})\n",
    "        points = historical_chart.find_all('path', {'class':'highcharts-point'})\n",
    "        for point in points:\n",
    "            label = point.get('aria-label')\n",
    "            historical_scores[ticker].append(label)\n",
    "    except:\n",
    "        if i == 1:\n",
    "            search_box = driver.find_elements(By.XPATH, \"/html/body/div[3]/div[11]/div/div[3]/div/div/div[2]/div[1]/input\")\n",
    "            search_box[0].clear()\n",
    "        else:\n",
    "            search_box = driver.find_elements(By.XPATH, \"/html/body/div[3]/div[1]/div[3]/div/div/div[2]/div[1]/input\")\n",
    "            search_box[0].clear()\n",
    "        print(f\"unable to scrape {ticker}\")\n",
    "    i += 1\n",
    "\n",
    "driver.close()"
   ]
  },
  {
   "cell_type": "code",
   "execution_count": 5,
   "metadata": {},
   "outputs": [],
   "source": [
    "def process_historical_scores(scores):\n",
    "    result = {}\n",
    "    for entry in scores:\n",
    "        split_list = entry.split(\", \")\n",
    "        year = split_list[0].split(\". \")[-1]\n",
    "        esg_score = split_list[-1].split(\".\")[0]\n",
    "        result[year] = int(esg_score)\n",
    "    return result\n",
    "\n",
    "processed_historical_scores = {}\n",
    "for ticker, data in historical_scores.items():\n",
    "    processed_historical_scores[ticker] = process_historical_scores(data)\n",
    "\n"
   ]
  },
  {
   "cell_type": "code",
   "execution_count": 6,
   "metadata": {},
   "outputs": [
    {
     "data": {
      "text/plain": [
       "{'AAPL': {'2018': 27, '2019': 29, '2020': 29, '2021': 32, '2022': 37},\n",
       " 'AMZN': {'2018': 14, '2019': 18, '2020': 21, '2021': 24, '2022': 22},\n",
       " 'BRK': {'2018': 10, '2019': 9, '2020': 8, '2021': 10, '2022': 12},\n",
       " 'CVX': {'2018': 43, '2019': 40, '2020': 42, '2021': 39, '2022': 43},\n",
       " 'GOOGL': {'2018': 31, '2019': 38, '2020': 40, '2021': 44, '2022': 46},\n",
       " 'HD': {'2018': 30, '2019': 31, '2020': 26, '2021': 37, '2022': 33},\n",
       " 'MRK': {'2018': 39, '2019': 40, '2020': 39, '2021': 38, '2022': 43},\n",
       " 'MSFT': {'2018': 58, '2019': 57, '2020': 58, '2021': 58, '2022': 56},\n",
       " 'NVDA': {'2018': 69, '2019': 72, '2020': 74, '2021': 74, '2022': 72},\n",
       " 'PG': {'2018': 52, '2019': 60, '2020': 60, '2021': 58, '2022': 49},\n",
       " 'TSLA': {'2018': 13, '2019': 14, '2020': 15, '2021': 27, '2022': 37},\n",
       " 'UNH': {'2018': 76, '2019': 69, '2020': 70, '2021': 74, '2022': 79},\n",
       " 'V': {'2018': 53, '2019': 58, '2020': 63, '2021': 62, '2022': 65},\n",
       " 'XOM': {'2018': 35, '2019': 37, '2020': 36, '2021': 36, '2022': 37}}"
      ]
     },
     "execution_count": 6,
     "metadata": {},
     "output_type": "execute_result"
    }
   ],
   "source": [
    "processed_historical_scores"
   ]
  },
  {
   "cell_type": "code",
   "execution_count": null,
   "metadata": {},
   "outputs": [],
   "source": []
  }
 ],
 "metadata": {
  "kernelspec": {
   "display_name": "base",
   "language": "python",
   "name": "python3"
  },
  "language_info": {
   "codemirror_mode": {
    "name": "ipython",
    "version": 3
   },
   "file_extension": ".py",
   "mimetype": "text/x-python",
   "name": "python",
   "nbconvert_exporter": "python",
   "pygments_lexer": "ipython3",
   "version": "3.9.7"
  },
  "orig_nbformat": 4
 },
 "nbformat": 4,
 "nbformat_minor": 2
}
