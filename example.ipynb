{
 "cells": [
  {
   "cell_type": "code",
   "execution_count": 8,
   "metadata": {},
   "outputs": [
    {
     "name": "stdout",
     "output_type": "stream",
     "text": [
      "\u001b[33mWARNING: Ignoring invalid distribution -portlib-metadata (/Library/Frameworks/Python.framework/Versions/3.7/lib/python3.7/site-packages)\u001b[0m\u001b[33m\n",
      "\u001b[0m\u001b[33mWARNING: Ignoring invalid distribution -mportlib-metadata (/Library/Frameworks/Python.framework/Versions/3.7/lib/python3.7/site-packages)\u001b[0m\u001b[33m\n",
      "\u001b[0m\u001b[33mWARNING: Ignoring invalid distribution -ix (/Library/Frameworks/Python.framework/Versions/3.7/lib/python3.7/site-packages)\u001b[0m\u001b[33m\n",
      "\u001b[0m\u001b[33mWARNING: Ignoring invalid distribution - (/Library/Frameworks/Python.framework/Versions/3.7/lib/python3.7/site-packages)\u001b[0m\u001b[33m\n",
      "\u001b[0m\u001b[33mWARNING: Ignoring invalid distribution -portlib-metadata (/Library/Frameworks/Python.framework/Versions/3.7/lib/python3.7/site-packages)\u001b[0m\u001b[33m\n",
      "\u001b[0m\u001b[33mWARNING: Ignoring invalid distribution -mportlib-metadata (/Library/Frameworks/Python.framework/Versions/3.7/lib/python3.7/site-packages)\u001b[0m\u001b[33m\n",
      "\u001b[0m\u001b[33mWARNING: Ignoring invalid distribution -ix (/Library/Frameworks/Python.framework/Versions/3.7/lib/python3.7/site-packages)\u001b[0m\u001b[33m\n",
      "\u001b[0m\u001b[33mWARNING: Ignoring invalid distribution - (/Library/Frameworks/Python.framework/Versions/3.7/lib/python3.7/site-packages)\u001b[0m\u001b[33m\n",
      "\u001b[0mRequirement already satisfied: pandas in /Library/Frameworks/Python.framework/Versions/3.7/lib/python3.7/site-packages (from -r requirements.txt (line 1)) (1.3.5)\n",
      "Requirement already satisfied: numpy in /Library/Frameworks/Python.framework/Versions/3.7/lib/python3.7/site-packages (from -r requirements.txt (line 2)) (1.21.2)\n",
      "Requirement already satisfied: PyPDF2 in /Library/Frameworks/Python.framework/Versions/3.7/lib/python3.7/site-packages (from -r requirements.txt (line 3)) (3.0.1)\n",
      "Requirement already satisfied: nltk in /Library/Frameworks/Python.framework/Versions/3.7/lib/python3.7/site-packages (from -r requirements.txt (line 4)) (3.8.1)\n",
      "\u001b[31mERROR: Could not find a version that satisfies the requirement re (from versions: none)\u001b[0m\u001b[31m\n",
      "\u001b[0m\u001b[31mERROR: No matching distribution found for re\u001b[0m\u001b[31m\n",
      "\u001b[0m\u001b[33mWARNING: Ignoring invalid distribution -portlib-metadata (/Library/Frameworks/Python.framework/Versions/3.7/lib/python3.7/site-packages)\u001b[0m\u001b[33m\n",
      "\u001b[0m\u001b[33mWARNING: Ignoring invalid distribution -mportlib-metadata (/Library/Frameworks/Python.framework/Versions/3.7/lib/python3.7/site-packages)\u001b[0m\u001b[33m\n",
      "\u001b[0m\u001b[33mWARNING: Ignoring invalid distribution -ix (/Library/Frameworks/Python.framework/Versions/3.7/lib/python3.7/site-packages)\u001b[0m\u001b[33m\n",
      "\u001b[0m\u001b[33mWARNING: Ignoring invalid distribution - (/Library/Frameworks/Python.framework/Versions/3.7/lib/python3.7/site-packages)\u001b[0m\u001b[33m\n",
      "\u001b[0m\u001b[33mWARNING: Ignoring invalid distribution -portlib-metadata (/Library/Frameworks/Python.framework/Versions/3.7/lib/python3.7/site-packages)\u001b[0m\u001b[33m\n",
      "\u001b[0m\u001b[33mWARNING: Ignoring invalid distribution -mportlib-metadata (/Library/Frameworks/Python.framework/Versions/3.7/lib/python3.7/site-packages)\u001b[0m\u001b[33m\n",
      "\u001b[0m\u001b[33mWARNING: Ignoring invalid distribution -ix (/Library/Frameworks/Python.framework/Versions/3.7/lib/python3.7/site-packages)\u001b[0m\u001b[33m\n",
      "\u001b[0m\u001b[33mWARNING: Ignoring invalid distribution - (/Library/Frameworks/Python.framework/Versions/3.7/lib/python3.7/site-packages)\u001b[0m\u001b[33m\n",
      "\u001b[0m\u001b[33mWARNING: Ignoring invalid distribution -portlib-metadata (/Library/Frameworks/Python.framework/Versions/3.7/lib/python3.7/site-packages)\u001b[0m\u001b[33m\n",
      "\u001b[0m\u001b[33mWARNING: Ignoring invalid distribution -mportlib-metadata (/Library/Frameworks/Python.framework/Versions/3.7/lib/python3.7/site-packages)\u001b[0m\u001b[33m\n",
      "\u001b[0m\u001b[33mWARNING: Ignoring invalid distribution -ix (/Library/Frameworks/Python.framework/Versions/3.7/lib/python3.7/site-packages)\u001b[0m\u001b[33m\n",
      "\u001b[0m\u001b[33mWARNING: Ignoring invalid distribution - (/Library/Frameworks/Python.framework/Versions/3.7/lib/python3.7/site-packages)\u001b[0m\u001b[33m\n",
      "\u001b[0m"
     ]
    }
   ],
   "source": [
    "!pip3 install -r requirements.txt"
   ]
  },
  {
   "cell_type": "code",
   "execution_count": 2,
   "metadata": {},
   "outputs": [
    {
     "name": "stdout",
     "output_type": "stream",
     "text": [
      "Text saved to file.\n",
      "                                           sentences      filename\n",
      "0  2018 SUSTAINABILITY REPORT HIGHLIGHTSFOREWORD ...  XOM_2018.pdf\n",
      "1  Actual future results, including future earnin...  XOM_2018.pdf\n",
      "2  For convenience and simplicity, those terms (a...  XOM_2018.pdf\n",
      "3           ExxonMobil is a publicly traded company.  XOM_2018.pdf\n",
      "4  The New York Stock Exchange is the principal e...  XOM_2018.pdf\n",
      "Text saved to file.\n",
      "                                           sentences      filename\n",
      "0  Sustainability Report Highlights In response t...  XOM_2019.pdf\n",
      "1  Sustainable Development Goals 04 Chairman’s le...  XOM_2019.pdf\n",
      "2  Actual future results, including financial and...  XOM_2019.pdf\n",
      "3  For convenience and simplicity, those terms (a...  XOM_2019.pdf\n",
      "4           ExxonMobil is a publicly traded company.  XOM_2019.pdf\n",
      "Text saved to file.\n",
      "                                           sentences      filename\n",
      "0  ExxonMobil Sustainability Report1 Sustainabili...  XOM_2022.pdf\n",
      "1  We develop and apply next-generation technolog...  XOM_2022.pdf\n",
      "2  Creating sustainable solutions that improve qu...  XOM_2022.pdf\n",
      "3  That is what we have done throughout our histo...  XOM_2022.pdf\n",
      "4  We are constantly working to meet the changing...  XOM_2022.pdf\n",
      "                                           sentences      filename\n",
      "0  2018 SUSTAINABILITY REPORT HIGHLIGHTSFOREWORD ...  XOM_2018.pdf\n",
      "1  Actual future results, including future earnin...  XOM_2018.pdf\n",
      "2  For convenience and simplicity, those terms (a...  XOM_2018.pdf\n",
      "3           ExxonMobil is a publicly traded company.  XOM_2018.pdf\n",
      "4  The New York Stock Exchange is the principal e...  XOM_2018.pdf\n"
     ]
    }
   ],
   "source": [
    "import os\n",
    "import pandas as pd\n",
    "import re\n",
    "import nltk\n",
    "import caller_functions\n",
    "\n",
    "folder_path = 'esg_reports'\n",
    "\n",
    "for foldername in os.listdir(folder_path):\n",
    "    company_folder_path = folder_path + '/' + foldername\n",
    "    data = []\n",
    "\n",
    "    for filename in os.listdir(company_folder_path):\n",
    "\n",
    "        if not os.path.exists('data/' + company_folder_path):\n",
    "            os.makedirs('data/' + company_folder_path)\n",
    "\n",
    "        filepath = company_folder_path + '/' + filename\n",
    "        txt_filepath = 'data/' + filepath.replace('.pdf','.txt')\n",
    "        caller_functions.pdfToText(filepath, txt_filepath)\n",
    "\n",
    "        # read the text file\n",
    "        with open(txt_filepath, 'r') as f:\n",
    "            text = f.read()\n",
    "\n",
    "        # clean the data\n",
    "        text = re.sub(r'\\n', ' ', text)  # remove line breaks\n",
    "        text = re.sub(r'\\s+', ' ', text)  # remove multiple spaces\n",
    "\n",
    "        # split the text into sentences\n",
    "        sentences = nltk.sent_tokenize(text)\n",
    "\n",
    "        # create a dataframe\n",
    "        df = pd.DataFrame({'sentences': sentences})\n",
    "        df['filename'] = filename\n",
    "        data.append(df)\n",
    "\n",
    "    company_df = pd.concat(data, axis=0)\n",
    "    csv_filepath = 'data/csv/' + foldername + '.csv'\n",
    "    company_df.to_csv(csv_filepath, index=False)"
   ]
  },
  {
   "cell_type": "code",
   "execution_count": 4,
   "metadata": {},
   "outputs": [
    {
     "data": {
      "text/html": [
       "<div>\n",
       "<style scoped>\n",
       "    .dataframe tbody tr th:only-of-type {\n",
       "        vertical-align: middle;\n",
       "    }\n",
       "\n",
       "    .dataframe tbody tr th {\n",
       "        vertical-align: top;\n",
       "    }\n",
       "\n",
       "    .dataframe thead th {\n",
       "        text-align: right;\n",
       "    }\n",
       "</style>\n",
       "<table border=\"1\" class=\"dataframe\">\n",
       "  <thead>\n",
       "    <tr style=\"text-align: right;\">\n",
       "      <th></th>\n",
       "      <th>sentences</th>\n",
       "      <th>filename</th>\n",
       "    </tr>\n",
       "  </thead>\n",
       "  <tbody>\n",
       "    <tr>\n",
       "      <th>0</th>\n",
       "      <td>ExxonMobil’s approach to air quality managemen...</td>\n",
       "      <td>XOM_2022.pdf</td>\n",
       "    </tr>\n",
       "    <tr>\n",
       "      <th>1</th>\n",
       "      <td>As part of this effort, the CLBD also trained ...</td>\n",
       "      <td>XOM_2018.pdf</td>\n",
       "    </tr>\n",
       "    <tr>\n",
       "      <th>2</th>\n",
       "      <td>We develop a local content plan specific to ea...</td>\n",
       "      <td>XOM_2018.pdf</td>\n",
       "    </tr>\n",
       "    <tr>\n",
       "      <th>3</th>\n",
       "      <td>For example, in Papua New Guinea, our Communit...</td>\n",
       "      <td>XOM_2022.pdf</td>\n",
       "    </tr>\n",
       "    <tr>\n",
       "      <th>4</th>\n",
       "      <td>Exercises like this help support our objective...</td>\n",
       "      <td>XOM_2022.pdf</td>\n",
       "    </tr>\n",
       "  </tbody>\n",
       "</table>\n",
       "</div>"
      ],
      "text/plain": [
       "                                           sentences      filename\n",
       "0  ExxonMobil’s approach to air quality managemen...  XOM_2022.pdf\n",
       "1  As part of this effort, the CLBD also trained ...  XOM_2018.pdf\n",
       "2  We develop a local content plan specific to ea...  XOM_2018.pdf\n",
       "3  For example, in Papua New Guinea, our Communit...  XOM_2022.pdf\n",
       "4  Exercises like this help support our objective...  XOM_2022.pdf"
      ]
     },
     "execution_count": 4,
     "metadata": {},
     "output_type": "execute_result"
    }
   ],
   "source": [
    "df_sample = company_df.sample(frac=1).reset_index(drop=True)\n",
    "df_sample.head()\n"
   ]
  },
  {
   "cell_type": "code",
   "execution_count": null,
   "metadata": {},
   "outputs": [],
   "source": []
  }
 ],
 "metadata": {
  "kernelspec": {
   "display_name": "Python 3",
   "language": "python",
   "name": "python3"
  },
  "language_info": {
   "codemirror_mode": {
    "name": "ipython",
    "version": 3
   },
   "file_extension": ".py",
   "mimetype": "text/x-python",
   "name": "python",
   "nbconvert_exporter": "python",
   "pygments_lexer": "ipython3",
   "version": "3.7.7"
  },
  "orig_nbformat": 4,
  "vscode": {
   "interpreter": {
    "hash": "aee8b7b246df8f9039afb4144a1f6fd8d2ca17a180786b69acc140d282b71a49"
   }
  }
 },
 "nbformat": 4,
 "nbformat_minor": 2
}
