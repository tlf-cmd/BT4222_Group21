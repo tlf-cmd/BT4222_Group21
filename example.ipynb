{
 "cells": [
  {
   "cell_type": "code",
   "execution_count": 1,
   "metadata": {},
   "outputs": [
    {
     "name": "stdout",
     "output_type": "stream",
     "text": [
      "Requirement already satisfied: pandas in /opt/anaconda3/lib/python3.9/site-packages (from -r requirements.txt (line 1)) (1.5.3)\n",
      "Requirement already satisfied: numpy in /opt/anaconda3/lib/python3.9/site-packages (from -r requirements.txt (line 2)) (1.20.3)\n",
      "Collecting PyPDF2\n",
      "  Downloading pypdf2-3.0.1-py3-none-any.whl (232 kB)\n",
      "\u001b[2K     \u001b[90m━━━━━━━━━━━━━━━━━━━━━━━━━━━━━━━━━━━━━━━\u001b[0m \u001b[32m232.6/232.6 kB\u001b[0m \u001b[31m5.5 MB/s\u001b[0m eta \u001b[36m0:00:00\u001b[0ma \u001b[36m0:00:01\u001b[0m\n",
      "\u001b[?25hRequirement already satisfied: nltk in /opt/anaconda3/lib/python3.9/site-packages (from -r requirements.txt (line 4)) (3.6.5)\n",
      "\u001b[31mERROR: Could not find a version that satisfies the requirement re (from versions: none)\u001b[0m\u001b[31m\n",
      "\u001b[0m\u001b[31mERROR: No matching distribution found for re\u001b[0m\u001b[31m\n",
      "\u001b[0m"
     ]
    }
   ],
   "source": [
    "!pip3 install -r requirements.txt"
   ]
  },
  {
   "cell_type": "code",
   "execution_count": 9,
   "metadata": {},
   "outputs": [
    {
     "name": "stdout",
     "output_type": "stream",
     "text": [
      "Text saved to file.\n",
      "Text saved to file.\n",
      "Text saved to file.\n",
      "Text saved to file.\n",
      "Text saved to file.\n",
      "Text saved to file.\n",
      "Text saved to file.\n",
      "Text saved to file.\n",
      "Text saved to file.\n",
      "Text saved to file.\n",
      "Text saved to file.\n",
      "Text saved to file.\n",
      "Text saved to file.\n",
      "Text saved to file.\n",
      "Text saved to file.\n",
      "Text saved to file.\n",
      "Text saved to file.\n",
      "Text saved to file.\n",
      "Text saved to file.\n",
      "Text saved to file.\n",
      "Text saved to file.\n",
      "Text saved to file.\n",
      "Text saved to file.\n",
      "Text saved to file.\n",
      "Text saved to file.\n",
      "Text saved to file.\n",
      "Text saved to file.\n",
      "Text saved to file.\n",
      "Text saved to file.\n",
      "Text saved to file.\n",
      "Text saved to file.\n",
      "Text saved to file.\n",
      "Text saved to file.\n",
      "Text saved to file.\n",
      "Text saved to file.\n",
      "Text saved to file.\n",
      "Text saved to file.\n",
      "Text saved to file.\n",
      "Text saved to file.\n",
      "Text saved to file.\n",
      "Text saved to file.\n",
      "Text saved to file.\n",
      "Text saved to file.\n",
      "Text saved to file.\n",
      "Text saved to file.\n",
      "Text saved to file.\n",
      "Text saved to file.\n",
      "Text saved to file.\n",
      "Text saved to file.\n",
      "Text saved to file.\n",
      "Text saved to file.\n",
      "Text saved to file.\n",
      "Text saved to file.\n",
      "Text saved to file.\n",
      "Text saved to file.\n",
      "Text saved to file.\n",
      "Text saved to file.\n",
      "Text saved to file.\n",
      "Text saved to file.\n",
      "Text saved to file.\n"
     ]
    }
   ],
   "source": [
    "import os\n",
    "import pandas as pd\n",
    "import re\n",
    "import nltk\n",
    "import caller_functions\n",
    "import PyPDF2\n",
    "\n",
    "folder_path = 'esg_reports'\n",
    "\n",
    "for foldername in os.listdir(folder_path):\n",
    "    company_folder_path = folder_path + '/' + foldername\n",
    "    data = []\n",
    "    if foldername == \".DS_Store\":\n",
    "        continue\n",
    "    for filename in os.listdir(company_folder_path):\n",
    "\n",
    "        if not os.path.exists('data/' + company_folder_path):\n",
    "            os.makedirs('data/' + company_folder_path)\n",
    "\n",
    "        filepath = company_folder_path + '/' + filename\n",
    "        txt_filepath = 'data/' + filepath.replace('.pdf','.txt')\n",
    "        caller_functions.pdfToText(filepath, txt_filepath)\n",
    "\n",
    "        # read the text file\n",
    "        with open(txt_filepath, 'r') as f:\n",
    "            text = f.read()\n",
    "\n",
    "        # clean the data\n",
    "        text = re.sub(r'\\n', ' ', text)  # remove line breaks\n",
    "        text = re.sub(r'\\s+', ' ', text)  # remove multiple spaces\n",
    "\n",
    "        # split the text into sentences\n",
    "        sentences = nltk.sent_tokenize(text)\n",
    "\n",
    "        # create a dataframe\n",
    "        df = pd.DataFrame({'sentences': sentences})\n",
    "        df['filename'] = filename\n",
    "        data.append(df)\n",
    "\n",
    "    company_df = pd.concat(data, axis=0)\n",
    "    csv_filepath = 'data/csv/' + foldername + '.csv'\n",
    "    company_df.to_csv(csv_filepath, index=False)"
   ]
  },
  {
   "cell_type": "code",
   "execution_count": 4,
   "metadata": {},
   "outputs": [
    {
     "data": {
      "text/html": [
       "<div>\n",
       "<style scoped>\n",
       "    .dataframe tbody tr th:only-of-type {\n",
       "        vertical-align: middle;\n",
       "    }\n",
       "\n",
       "    .dataframe tbody tr th {\n",
       "        vertical-align: top;\n",
       "    }\n",
       "\n",
       "    .dataframe thead th {\n",
       "        text-align: right;\n",
       "    }\n",
       "</style>\n",
       "<table border=\"1\" class=\"dataframe\">\n",
       "  <thead>\n",
       "    <tr style=\"text-align: right;\">\n",
       "      <th></th>\n",
       "      <th>sentences</th>\n",
       "      <th>filename</th>\n",
       "    </tr>\n",
       "  </thead>\n",
       "  <tbody>\n",
       "    <tr>\n",
       "      <th>0</th>\n",
       "      <td>ExxonMobil’s approach to air quality managemen...</td>\n",
       "      <td>XOM_2022.pdf</td>\n",
       "    </tr>\n",
       "    <tr>\n",
       "      <th>1</th>\n",
       "      <td>As part of this effort, the CLBD also trained ...</td>\n",
       "      <td>XOM_2018.pdf</td>\n",
       "    </tr>\n",
       "    <tr>\n",
       "      <th>2</th>\n",
       "      <td>We develop a local content plan specific to ea...</td>\n",
       "      <td>XOM_2018.pdf</td>\n",
       "    </tr>\n",
       "    <tr>\n",
       "      <th>3</th>\n",
       "      <td>For example, in Papua New Guinea, our Communit...</td>\n",
       "      <td>XOM_2022.pdf</td>\n",
       "    </tr>\n",
       "    <tr>\n",
       "      <th>4</th>\n",
       "      <td>Exercises like this help support our objective...</td>\n",
       "      <td>XOM_2022.pdf</td>\n",
       "    </tr>\n",
       "  </tbody>\n",
       "</table>\n",
       "</div>"
      ],
      "text/plain": [
       "                                           sentences      filename\n",
       "0  ExxonMobil’s approach to air quality managemen...  XOM_2022.pdf\n",
       "1  As part of this effort, the CLBD also trained ...  XOM_2018.pdf\n",
       "2  We develop a local content plan specific to ea...  XOM_2018.pdf\n",
       "3  For example, in Papua New Guinea, our Communit...  XOM_2022.pdf\n",
       "4  Exercises like this help support our objective...  XOM_2022.pdf"
      ]
     },
     "execution_count": 4,
     "metadata": {},
     "output_type": "execute_result"
    }
   ],
   "source": [
    "df_sample = company_df.sample(frac=1).reset_index(drop=True)\n",
    "df_sample.head()\n"
   ]
  },
  {
   "cell_type": "code",
   "execution_count": null,
   "metadata": {},
   "outputs": [],
   "source": []
  }
 ],
 "metadata": {
  "kernelspec": {
   "display_name": "Python 3",
   "language": "python",
   "name": "python3"
  },
  "language_info": {
   "codemirror_mode": {
    "name": "ipython",
    "version": 3
   },
   "file_extension": ".py",
   "mimetype": "text/x-python",
   "name": "python",
   "nbconvert_exporter": "python",
   "pygments_lexer": "ipython3",
   "version": "3.9.7"
  },
  "orig_nbformat": 4,
  "vscode": {
   "interpreter": {
    "hash": "aee8b7b246df8f9039afb4144a1f6fd8d2ca17a180786b69acc140d282b71a49"
   }
  }
 },
 "nbformat": 4,
 "nbformat_minor": 2
}
