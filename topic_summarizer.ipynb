{
 "cells": [
  {
   "cell_type": "code",
   "execution_count": null,
   "metadata": {},
   "outputs": [],
   "source": [
    "!pip install tensorflow\n",
    "!pip install pytorch\n",
    "!pip install torch\n",
    "!pip install transformers\n",
    "!pip install evaluate\n",
    "!pip install pickle"
   ]
  },
  {
   "cell_type": "code",
   "execution_count": 48,
   "metadata": {},
   "outputs": [],
   "source": [
    "import transformers\n",
    "import pandas as pd\n",
    "import os\n",
    "from collections import defaultdict\n",
    "import re"
   ]
  },
  {
   "cell_type": "code",
   "execution_count": 58,
   "metadata": {},
   "outputs": [],
   "source": [
    "reports = {}\n",
    "\n",
    "for file in os.listdir('./output/classified_sentences'):\n",
    "    if file == \".DS_Store\":\n",
    "        continue\n",
    "    df = pd.read_csv(f'./output/classified_sentences/{file}')\n",
    "    df = df.rename(columns={'Unnamed: 0': 'Line'})\n",
    "    # pick out ticker\n",
    "    ticker = file.split('_')[0]\n",
    "    reports[ticker] = df"
   ]
  },
  {
   "cell_type": "code",
   "execution_count": 59,
   "metadata": {},
   "outputs": [
    {
     "data": {
      "text/plain": [
       "\"\\n    Todo: we need to change this.\\n    1. Check if mapped criteria topic 1 is 'NON-ESG'\\n        - if it is, continue (skip iteration)\\n    2. Check if mapped criteria topic 1 is empty string\\n        - if it is, check mapped criteria 2 (repeat step 1,2,3)\\n    3. Check if mapped criteria topic 1 has criteria topic\\n        - if there is 1 criteria topic, append sentence to corresponding topic and continue (next iteration)\\n        - if there are multiple criteria topics, append sentence to all corresponding topics and continue (next iteration)\\n\""
      ]
     },
     "execution_count": 59,
     "metadata": {},
     "output_type": "execute_result"
    }
   ],
   "source": [
    "# Topics as keys, and a list of all sentences classified as that topic as values\n",
    "\n",
    "'''\n",
    "    Todo: we need to change this.\n",
    "    1. Check if mapped criteria topic 1 is 'NON-ESG'\n",
    "        - if it is, continue (skip iteration)\n",
    "    2. Check if mapped criteria topic 1 is empty string\n",
    "        - if it is, check mapped criteria 2 (repeat step 1,2,3)\n",
    "    3. Check if mapped criteria topic 1 has criteria topic\n",
    "        - if there is 1 criteria topic, append sentence to corresponding topic and continue (next iteration)\n",
    "        - if there are multiple criteria topics, append sentence to all corresponding topics and continue (next iteration)\n",
    "'''"
   ]
  },
  {
   "cell_type": "code",
   "execution_count": 60,
   "metadata": {},
   "outputs": [],
   "source": [
    "from ast import literal_eval\n",
    "topics_by_company = {}\n",
    "\n",
    "for company, data in reports.items():\n",
    "    topics_by_company[company] = {}\n",
    "    for index, row in data.iterrows():\n",
    "        mapped_criteria_topic_1 = literal_eval(row['Mapped Criteria Topic 1'])\n",
    "        mapped_criteria_topic_2 = literal_eval(row['Mapped Criteria Topic 2'])\n",
    "        mapped_criteria_topic_3 = literal_eval(row['Mapped Criteria Topic 3'])\n",
    "        sentence = row['Sentence']\n",
    "        if mapped_criteria_topic_1[0] != 'NON-ESG':\n",
    "            if mapped_criteria_topic_1[0] != []:\n",
    "                for i in  mapped_criteria_topic_1[0]:\n",
    "                    if i not in topics_by_company[company]:\n",
    "                        topics_by_company[company][i] = {}\n",
    "                    topics_by_company[company][i][sentence] = mapped_criteria_topic_1[1]\n",
    "            else:\n",
    "                if mapped_criteria_topic_2[0] != 'NON-ESG':\n",
    "                    if mapped_criteria_topic_2[0] != []:\n",
    "                        for i in  mapped_criteria_topic_2[0]:\n",
    "                            if i not in topics_by_company[company]:\n",
    "                                topics_by_company[company][i] = {}\n",
    "                            topics_by_company[company][i][sentence] = mapped_criteria_topic_2[1]\n",
    "                    else:\n",
    "                        if mapped_criteria_topic_3[0] != 'NON-ESG':\n",
    "                            if mapped_criteria_topic_3[0] != []:\n",
    "                                for i in  mapped_criteria_topic_3[0]:\n",
    "                                    if i not in topics_by_company[company]:\n",
    "                                        topics_by_company[company][i] = {}\n",
    "                                    topics_by_company[company][i][sentence] = mapped_criteria_topic_3[1]       "
   ]
  },
  {
   "cell_type": "code",
   "execution_count": 62,
   "metadata": {},
   "outputs": [],
   "source": [
    "# Sort sentences by topic according to probability\n",
    "for company, data in topics_by_company.items():\n",
    "    for topic, sentence_prob in data.items():\n",
    "        sorted_sentence_prob = dict(sorted(sentence_prob.items(), key = lambda x: x[1], reverse=True))\n",
    "        topics_by_company[company][topic] = sorted_sentence_prob"
   ]
  },
  {
   "cell_type": "code",
   "execution_count": 63,
   "metadata": {},
   "outputs": [],
   "source": [
    "company_topic_sentences = {}\n",
    "for company, data in topics_by_company.items():\n",
    "    company_topic_sentences[company] = {}\n",
    "    for topic, sentences in data.items():\n",
    "        if topic not in company_topic_sentences[company]:\n",
    "            company_topic_sentences[company][topic] = []\n",
    "        for sentence, prob in sentences.items():\n",
    "            company_topic_sentences[company][topic].append(sentence)"
   ]
  },
  {
   "attachments": {},
   "cell_type": "markdown",
   "metadata": {},
   "source": [
    "### Facebook-BART-CNN Model for summarization\n",
    "- Use `pipeline` from Huggingface's `transformer` library\n",
    "- For each company, save the generated summaries under 1 csv file under `Generated Summaries/fina/...`"
   ]
  },
  {
   "cell_type": "code",
   "execution_count": 68,
   "metadata": {},
   "outputs": [],
   "source": [
    "if not os.path.exists(\"Generated Summaries/final\"):\n",
    "    os.makedirs(\"Generated Summaries/final\")"
   ]
  },
  {
   "cell_type": "code",
   "execution_count": 69,
   "metadata": {},
   "outputs": [],
   "source": [
    "from transformers import pipeline\n",
    "import nltk\n",
    "from nltk.tokenize import sent_tokenize\n",
    "\n",
    "summarizer = pipeline(\"summarization\", model=\"facebook/bart-large-cnn\")\n",
    "\n",
    "# Helper function to split the text into segments\n",
    "def split_in_segments(text):\n",
    "    tokens = 0\n",
    "    mystring = list()\n",
    "    segments = []\n",
    "    text = re.sub(r'(?<=\\w)(\\.)', r' \\1', text)\n",
    "    for sent in sent_tokenize(text):\n",
    "        newtokens = len(sent.split())\n",
    "        if tokens + newtokens > 500:\n",
    "            segments.append(\" \".join(mystring))\n",
    "            mystring = []\n",
    "            mystring.append(str(sent).strip())\n",
    "            tokens = newtokens\n",
    "        elif newtokens > 500:\n",
    "            segments.extend([str(sent)[i:i+500] for i in range(0, len(str(sent)), 500)])\n",
    "        else:\n",
    "            tokens += newtokens\n",
    "            mystring.append(str(sent).strip())\n",
    "        \n",
    "    if mystring:\n",
    "        segments.append(\" \".join(mystring))\n",
    "\n",
    "    return segments\n",
    "\n",
    "# Helper Function to summarize text based on input text\n",
    "def summarize_text(input_text):\n",
    "    segments = split_in_segments(input_text)\n",
    "    summaries = []\n",
    "    for seg in segments:\n",
    "        summary = summarizer(seg, truncation = True, max_length=100, min_length=30, do_sample=False)\n",
    "        summaries.extend(summary)\n",
    "    return summaries"
   ]
  },
  {
   "attachments": {},
   "cell_type": "markdown",
   "metadata": {},
   "source": [
    "#### Input used for summarization : Top 20 Sentences"
   ]
  },
  {
   "cell_type": "code",
   "execution_count": 70,
   "metadata": {},
   "outputs": [
    {
     "name": "stdout",
     "output_type": "stream",
     "text": [
      "Summarizing DHR\n",
      "### Topic: Human Capital Development ###\n",
      "### Topic: Innovation Management ###\n",
      "### Topic: Operational Eco-Efficiency ###\n",
      "### Topic: Talent Attraction & Retention ###\n",
      "### Topic: Climate Strategy ###\n",
      "### Topic: Business Ethics ###\n",
      "### Topic: Risk & Crisis Management ###\n",
      "### Topic: Supply Chain Management ###\n",
      "Summarizing ABT\n",
      "### Topic: Talent Attraction & Retention ###\n",
      "### Topic: Supply Chain Management ###\n",
      "### Topic: Business Ethics ###\n"
     ]
    },
    {
     "name": "stderr",
     "output_type": "stream",
     "text": [
      "Your max_length is set to 100, but you input_length is only 89. You might consider decreasing max_length manually, e.g. summarizer('...', max_length=44)\n"
     ]
    },
    {
     "name": "stdout",
     "output_type": "stream",
     "text": [
      "### Topic: Human Capital Development ###\n",
      "### Topic: Innovation Management ###\n",
      "### Topic: Health Outcome Contribution ###\n",
      "### Topic: Product Quality & Recall Management ###\n",
      "### Topic: Operational Eco-Efficiency ###\n",
      "Summarizing INTC\n",
      "### Topic: Product Stewardship ###\n"
     ]
    },
    {
     "name": "stderr",
     "output_type": "stream",
     "text": [
      "Your max_length is set to 100, but you input_length is only 17. You might consider decreasing max_length manually, e.g. summarizer('...', max_length=8)\n"
     ]
    },
    {
     "name": "stdout",
     "output_type": "stream",
     "text": [
      "### Topic: Climate Strategy ###\n",
      "### Topic: Environmental Policy & Management Systems ###\n",
      "### Topic: Talent Attraction & Retention ###\n",
      "### Topic: Operational Eco-Efficiency ###\n",
      "### Topic: Supply Chain Management ###\n"
     ]
    },
    {
     "name": "stderr",
     "output_type": "stream",
     "text": [
      "Your max_length is set to 100, but you input_length is only 96. You might consider decreasing max_length manually, e.g. summarizer('...', max_length=48)\n"
     ]
    },
    {
     "name": "stdout",
     "output_type": "stream",
     "text": [
      "### Topic: Human Capital Development ###\n",
      "### Topic: Innovation Management ###\n",
      "### Topic: Product Quality & Recall Management ###\n",
      "Summarizing BMY\n",
      "### Topic: Business Ethics ###\n",
      "### Topic: Human Capital Development ###\n",
      "### Topic: Innovation Management ###\n",
      "### Topic: Access to Healthcare ###\n"
     ]
    },
    {
     "name": "stderr",
     "output_type": "stream",
     "text": [
      "Your max_length is set to 100, but you input_length is only 63. You might consider decreasing max_length manually, e.g. summarizer('...', max_length=31)\n",
      "Your max_length is set to 100, but you input_length is only 3. You might consider decreasing max_length manually, e.g. summarizer('...', max_length=1)\n"
     ]
    },
    {
     "name": "stdout",
     "output_type": "stream",
     "text": [
      "### Topic: Talent Attraction & Retention ###\n"
     ]
    },
    {
     "name": "stderr",
     "output_type": "stream",
     "text": [
      "Your max_length is set to 100, but you input_length is only 36. You might consider decreasing max_length manually, e.g. summarizer('...', max_length=18)\n",
      "Your max_length is set to 100, but you input_length is only 3. You might consider decreasing max_length manually, e.g. summarizer('...', max_length=1)\n"
     ]
    },
    {
     "name": "stdout",
     "output_type": "stream",
     "text": [
      "### Topic: Health Outcome Contribution ###\n",
      "### Topic: Operational Eco-Efficiency ###\n",
      "### Topic: Product Quality & Recall Management ###\n",
      "Summarizing QCOM\n",
      "### Topic: Human Capital Development ###\n",
      "### Topic: Innovation Management ###\n",
      "### Topic: Environmental Policy & Management Systems ###\n"
     ]
    },
    {
     "name": "stderr",
     "output_type": "stream",
     "text": [
      "Your max_length is set to 100, but you input_length is only 99. You might consider decreasing max_length manually, e.g. summarizer('...', max_length=49)\n"
     ]
    },
    {
     "name": "stdout",
     "output_type": "stream",
     "text": [
      "### Topic: Talent Attraction & Retention ###\n",
      "### Topic: Operational Eco-Efficiency ###\n",
      "### Topic: Climate Strategy ###\n",
      "### Topic: Product Stewardship ###\n",
      "### Topic: Supply Chain Management ###\n",
      "### Topic: Product Quality & Recall Management ###\n",
      "Summarizing ACN\n",
      "### Topic: Talent Attraction & Retention ###\n"
     ]
    },
    {
     "name": "stderr",
     "output_type": "stream",
     "text": [
      "Your max_length is set to 100, but you input_length is only 79. You might consider decreasing max_length manually, e.g. summarizer('...', max_length=39)\n"
     ]
    },
    {
     "name": "stdout",
     "output_type": "stream",
     "text": [
      "### Topic: Human Capital Development ###\n",
      "### Topic: Innovation Management ###\n",
      "### Topic: Operational Eco-Efficiency ###\n"
     ]
    },
    {
     "name": "stderr",
     "output_type": "stream",
     "text": [
      "Your max_length is set to 100, but you input_length is only 72. You might consider decreasing max_length manually, e.g. summarizer('...', max_length=36)\n"
     ]
    },
    {
     "name": "stdout",
     "output_type": "stream",
     "text": [
      "### Topic: Climate Strategy ###\n",
      "### Topic: Environmental Policy & Management Systems ###\n",
      "### Topic: Information Security Cybersecurity & System Availability ###\n",
      "Summarizing UPS\n",
      "### Topic: Stakeholder Engagement ###\n",
      "### Topic: Risk & Crisis Management ###\n",
      "### Topic: Talent Attraction & Retention ###\n",
      "### Topic: Occupational Health & Safety ###\n",
      "### Topic: Climate Strategy ###\n"
     ]
    },
    {
     "name": "stderr",
     "output_type": "stream",
     "text": [
      "Your max_length is set to 100, but you input_length is only 66. You might consider decreasing max_length manually, e.g. summarizer('...', max_length=33)\n"
     ]
    },
    {
     "name": "stdout",
     "output_type": "stream",
     "text": [
      "### Topic: Operational Eco-Efficiency ###\n",
      "Summarizing PM\n",
      "### Topic: Business Ethics ###\n",
      "### Topic: Human Capital Development ###\n"
     ]
    },
    {
     "name": "stderr",
     "output_type": "stream",
     "text": [
      "Your max_length is set to 100, but you input_length is only 32. You might consider decreasing max_length manually, e.g. summarizer('...', max_length=16)\n"
     ]
    },
    {
     "name": "stdout",
     "output_type": "stream",
     "text": [
      "### Topic: Innovation Management ###\n"
     ]
    },
    {
     "name": "stderr",
     "output_type": "stream",
     "text": [
      "Your max_length is set to 100, but you input_length is only 32. You might consider decreasing max_length manually, e.g. summarizer('...', max_length=16)\n"
     ]
    },
    {
     "name": "stdout",
     "output_type": "stream",
     "text": [
      "### Topic: Human Rights ###\n",
      "### Topic: Sustainable Agricultural Practices ###\n",
      "### Topic: Supply Chain Management ###\n",
      "### Topic: Occupational Health & Safety ###\n",
      "### Topic: Climate Strategy ###\n",
      "### Topic: Operational Eco-Efficiency ###\n",
      "Summarizing MCD\n",
      "### Topic: Human Rights ###\n",
      "### Topic: Supply Chain Management ###\n"
     ]
    },
    {
     "name": "stderr",
     "output_type": "stream",
     "text": [
      "Your max_length is set to 100, but you input_length is only 59. You might consider decreasing max_length manually, e.g. summarizer('...', max_length=29)\n"
     ]
    },
    {
     "name": "stdout",
     "output_type": "stream",
     "text": [
      "### Topic: Labor Practice Indicators ###\n"
     ]
    },
    {
     "name": "stderr",
     "output_type": "stream",
     "text": [
      "Your max_length is set to 100, but you input_length is only 80. You might consider decreasing max_length manually, e.g. summarizer('...', max_length=40)\n"
     ]
    },
    {
     "name": "stdout",
     "output_type": "stream",
     "text": [
      "### Topic: Climate Strategy ###\n",
      "### Topic: Business Ethics ###\n"
     ]
    },
    {
     "name": "stderr",
     "output_type": "stream",
     "text": [
      "Your max_length is set to 100, but you input_length is only 23. You might consider decreasing max_length manually, e.g. summarizer('...', max_length=11)\n"
     ]
    },
    {
     "name": "stdout",
     "output_type": "stream",
     "text": [
      "### Topic: Operational Eco-Efficiency ###\n",
      "### Topic: Biodiversity ###\n",
      "### Topic: Occupational Health & Safety ###\n"
     ]
    },
    {
     "name": "stderr",
     "output_type": "stream",
     "text": [
      "Your max_length is set to 100, but you input_length is only 79. You might consider decreasing max_length manually, e.g. summarizer('...', max_length=39)\n"
     ]
    },
    {
     "name": "stdout",
     "output_type": "stream",
     "text": [
      "Summarizing NKE\n",
      "### Topic: Human Rights ###\n",
      "### Topic: Occupational Health & Safety ###\n",
      "### Topic: Climate Strategy ###\n",
      "### Topic: Product Stewardship ###\n",
      "### Topic: Sustainable Marketing & Brand Perception ###\n",
      "### Topic: Circular Fashion ###\n",
      "### Topic: Risk & Crisis Management ###\n",
      "### Topic: Supply Chain Management ###\n",
      "### Topic: Labor Practice Indicators ###\n",
      "Summarizing NFLX\n",
      "### Topic: Responsibility of Content ###\n",
      "### Topic: Operational Eco-Efficiency ###\n",
      "### Topic: Climate Strategy ###\n",
      "### Topic: Human Capital Development ###\n"
     ]
    },
    {
     "name": "stderr",
     "output_type": "stream",
     "text": [
      "Your max_length is set to 100, but you input_length is only 73. You might consider decreasing max_length manually, e.g. summarizer('...', max_length=36)\n"
     ]
    },
    {
     "name": "stdout",
     "output_type": "stream",
     "text": [
      "### Topic: Sustainable Marketing & Brand Perception ###\n",
      "### Topic: Information Security Cybersecurity & System Availability ###\n",
      "### Topic: Talent Attraction & Retention ###\n",
      "### Topic: Labor Practice Indicators ###\n",
      "Summarizing AMGN\n",
      "### Topic: Business Ethics ###\n",
      "### Topic: Product Quality & Recall Management ###\n",
      "### Topic: Human Capital Development ###\n"
     ]
    },
    {
     "name": "stderr",
     "output_type": "stream",
     "text": [
      "Your max_length is set to 100, but you input_length is only 54. You might consider decreasing max_length manually, e.g. summarizer('...', max_length=27)\n"
     ]
    },
    {
     "name": "stdout",
     "output_type": "stream",
     "text": [
      "### Topic: Innovation Management ###\n"
     ]
    },
    {
     "name": "stderr",
     "output_type": "stream",
     "text": [
      "Your max_length is set to 100, but you input_length is only 54. You might consider decreasing max_length manually, e.g. summarizer('...', max_length=27)\n"
     ]
    },
    {
     "name": "stdout",
     "output_type": "stream",
     "text": [
      "### Topic: Access to Healthcare ###\n",
      "### Topic: Talent Attraction & Retention ###\n",
      "### Topic: Health Outcome Contribution ###\n",
      "### Topic: Operational Eco-Efficiency ###\n"
     ]
    },
    {
     "name": "stderr",
     "output_type": "stream",
     "text": [
      "Your max_length is set to 100, but you input_length is only 68. You might consider decreasing max_length manually, e.g. summarizer('...', max_length=34)\n"
     ]
    },
    {
     "name": "stdout",
     "output_type": "stream",
     "text": [
      "Summarizing DIS\n",
      "### Topic: Talent Attraction & Retention ###\n",
      "### Topic: Information Security Cybersecurity & System Availability ###\n",
      "### Topic: Operational Eco-Efficiency ###\n",
      "### Topic: Responsibility of Content ###\n",
      "### Topic: Human Capital Development ###\n",
      "### Topic: Sustainable Marketing & Brand Perception ###\n",
      "### Topic: Labor Practice Indicators ###\n"
     ]
    },
    {
     "name": "stderr",
     "output_type": "stream",
     "text": [
      "Your max_length is set to 100, but you input_length is only 24. You might consider decreasing max_length manually, e.g. summarizer('...', max_length=12)\n"
     ]
    },
    {
     "name": "stdout",
     "output_type": "stream",
     "text": [
      "### Topic: Climate Strategy ###\n",
      "Summarizing CMCSA\n",
      "### Topic: Responsibility of Content ###\n"
     ]
    },
    {
     "name": "stderr",
     "output_type": "stream",
     "text": [
      "Your max_length is set to 100, but you input_length is only 45. You might consider decreasing max_length manually, e.g. summarizer('...', max_length=22)\n"
     ]
    },
    {
     "name": "stdout",
     "output_type": "stream",
     "text": [
      "### Topic: Labor Practice Indicators ###\n",
      "### Topic: Talent Attraction & Retention ###\n",
      "### Topic: Operational Eco-Efficiency ###\n",
      "Summarizing WFC\n",
      "### Topic: Business Ethics ###\n",
      "### Topic: Risk & Crisis Management ###\n",
      "### Topic: Decarbonization Strategy ###\n"
     ]
    },
    {
     "name": "stderr",
     "output_type": "stream",
     "text": [
      "Your max_length is set to 100, but you input_length is only 50. You might consider decreasing max_length manually, e.g. summarizer('...', max_length=25)\n"
     ]
    },
    {
     "name": "stdout",
     "output_type": "stream",
     "text": [
      "### Topic: Climate Strategy ###\n"
     ]
    },
    {
     "name": "stderr",
     "output_type": "stream",
     "text": [
      "Your max_length is set to 100, but you input_length is only 76. You might consider decreasing max_length manually, e.g. summarizer('...', max_length=38)\n"
     ]
    },
    {
     "name": "stdout",
     "output_type": "stream",
     "text": [
      "### Topic: Human Capital Development ###\n"
     ]
    },
    {
     "name": "stderr",
     "output_type": "stream",
     "text": [
      "Your max_length is set to 100, but you input_length is only 3. You might consider decreasing max_length manually, e.g. summarizer('...', max_length=1)\n"
     ]
    },
    {
     "name": "stdout",
     "output_type": "stream",
     "text": [
      "### Topic: Talent Attraction & Retention ###\n"
     ]
    },
    {
     "name": "stderr",
     "output_type": "stream",
     "text": [
      "Your max_length is set to 100, but you input_length is only 3. You might consider decreasing max_length manually, e.g. summarizer('...', max_length=1)\n"
     ]
    },
    {
     "name": "stdout",
     "output_type": "stream",
     "text": [
      "### Topic: Financial Inclusion ###\n"
     ]
    },
    {
     "name": "stderr",
     "output_type": "stream",
     "text": [
      "Your max_length is set to 100, but you input_length is only 3. You might consider decreasing max_length manually, e.g. summarizer('...', max_length=1)\n"
     ]
    },
    {
     "name": "stdout",
     "output_type": "stream",
     "text": [
      "### Topic: Sustainable Finance ###\n"
     ]
    },
    {
     "name": "stderr",
     "output_type": "stream",
     "text": [
      "Your max_length is set to 100, but you input_length is only 44. You might consider decreasing max_length manually, e.g. summarizer('...', max_length=22)\n",
      "Your max_length is set to 100, but you input_length is only 72. You might consider decreasing max_length manually, e.g. summarizer('...', max_length=36)\n"
     ]
    },
    {
     "name": "stdout",
     "output_type": "stream",
     "text": [
      "### Topic: Corporate Governance ###\n",
      "Summarizing RTX\n",
      "### Topic: Supply Chain Management ###\n",
      "### Topic: Human Rights ###\n"
     ]
    },
    {
     "name": "stderr",
     "output_type": "stream",
     "text": [
      "Your max_length is set to 100, but you input_length is only 83. You might consider decreasing max_length manually, e.g. summarizer('...', max_length=41)\n"
     ]
    },
    {
     "name": "stdout",
     "output_type": "stream",
     "text": [
      "### Topic: Climate Strategy ###\n"
     ]
    },
    {
     "name": "stderr",
     "output_type": "stream",
     "text": [
      "Your max_length is set to 100, but you input_length is only 83. You might consider decreasing max_length manually, e.g. summarizer('...', max_length=41)\n"
     ]
    },
    {
     "name": "stdout",
     "output_type": "stream",
     "text": [
      "### Topic: Operational Eco-Efficiency ###\n",
      "### Topic: Product Stewardship ###\n",
      "### Topic: Business Ethics ###\n",
      "### Topic: Human Capital Development ###\n",
      "### Topic: Compliance with Applicable Export Control Regimes ###\n"
     ]
    },
    {
     "name": "stderr",
     "output_type": "stream",
     "text": [
      "Your max_length is set to 100, but you input_length is only 79. You might consider decreasing max_length manually, e.g. summarizer('...', max_length=39)\n"
     ]
    },
    {
     "name": "stdout",
     "output_type": "stream",
     "text": [
      "### Topic: Occupational Health & Safety ###\n",
      "Summarizing TXN\n",
      "### Topic: Operational Eco-Efficiency ###\n",
      "### Topic: Talent Attraction & Retention ###\n",
      "### Topic: Product Stewardship ###\n",
      "### Topic: Human Capital Development ###\n",
      "### Topic: Innovation Management ###\n",
      "### Topic: Environmental Policy & Management Systems ###\n"
     ]
    },
    {
     "name": "stderr",
     "output_type": "stream",
     "text": [
      "Your max_length is set to 100, but you input_length is only 87. You might consider decreasing max_length manually, e.g. summarizer('...', max_length=43)\n"
     ]
    },
    {
     "name": "stdout",
     "output_type": "stream",
     "text": [
      "### Topic: Climate Strategy ###\n"
     ]
    },
    {
     "name": "stderr",
     "output_type": "stream",
     "text": [
      "Your max_length is set to 100, but you input_length is only 35. You might consider decreasing max_length manually, e.g. summarizer('...', max_length=17)\n"
     ]
    },
    {
     "name": "stdout",
     "output_type": "stream",
     "text": [
      "### Topic: Supply Chain Management ###\n"
     ]
    },
    {
     "name": "stderr",
     "output_type": "stream",
     "text": [
      "Your max_length is set to 100, but you input_length is only 66. You might consider decreasing max_length manually, e.g. summarizer('...', max_length=33)\n"
     ]
    },
    {
     "name": "stdout",
     "output_type": "stream",
     "text": [
      "### Topic: Product Quality & Recall Management ###\n",
      "Summarizing NEE\n",
      "### Topic: Climate Strategy ###\n"
     ]
    },
    {
     "name": "stderr",
     "output_type": "stream",
     "text": [
      "Your max_length is set to 100, but you input_length is only 93. You might consider decreasing max_length manually, e.g. summarizer('...', max_length=46)\n"
     ]
    },
    {
     "name": "stdout",
     "output_type": "stream",
     "text": [
      "### Topic: Operational Eco-Efficiency ###\n",
      "### Topic: Electricity Generation ###\n",
      "### Topic: Stakeholder Engagement ###\n"
     ]
    },
    {
     "name": "stderr",
     "output_type": "stream",
     "text": [
      "Your max_length is set to 100, but you input_length is only 43. You might consider decreasing max_length manually, e.g. summarizer('...', max_length=21)\n"
     ]
    },
    {
     "name": "stdout",
     "output_type": "stream",
     "text": [
      "### Topic: Market Opportunities ###\n",
      "### Topic: Risk & Crisis Management ###\n",
      "### Topic: Talent Attraction & Retention ###\n",
      "### Topic: Business Ethics ###\n",
      "### Topic: Occupational Health & Safety ###\n",
      "Summarizing T\n",
      "### Topic: Human Capital Development ###\n",
      "### Topic: Risk & Crisis Management ###\n",
      "### Topic: Information Security Cybersecurity & System Availability ###\n",
      "### Topic: Network Reliability ###\n",
      "### Topic: Operational Eco-Efficiency ###\n",
      "### Topic: Climate Strategy ###\n"
     ]
    },
    {
     "name": "stderr",
     "output_type": "stream",
     "text": [
      "Your max_length is set to 100, but you input_length is only 41. You might consider decreasing max_length manually, e.g. summarizer('...', max_length=20)\n"
     ]
    },
    {
     "name": "stdout",
     "output_type": "stream",
     "text": [
      "### Topic: Biodiversity ###\n",
      "Summarizing AMD\n",
      "### Topic: Supply Chain Management ###\n"
     ]
    },
    {
     "name": "stderr",
     "output_type": "stream",
     "text": [
      "Your max_length is set to 100, but you input_length is only 48. You might consider decreasing max_length manually, e.g. summarizer('...', max_length=24)\n"
     ]
    },
    {
     "name": "stdout",
     "output_type": "stream",
     "text": [
      "### Topic: Product Stewardship ###\n",
      "### Topic: Environmental Policy & Management Systems ###\n"
     ]
    },
    {
     "name": "stderr",
     "output_type": "stream",
     "text": [
      "Your max_length is set to 100, but you input_length is only 77. You might consider decreasing max_length manually, e.g. summarizer('...', max_length=38)\n"
     ]
    },
    {
     "name": "stdout",
     "output_type": "stream",
     "text": [
      "### Topic: Climate Strategy ###\n",
      "### Topic: Talent Attraction & Retention ###\n",
      "### Topic: Operational Eco-Efficiency ###\n",
      "### Topic: Human Capital Development ###\n",
      "### Topic: Innovation Management ###\n",
      "### Topic: Product Quality & Recall Management ###\n",
      "Summarizing ADBE\n",
      "### Topic: Environmental Policy & Management Systems ###\n"
     ]
    },
    {
     "name": "stderr",
     "output_type": "stream",
     "text": [
      "Your max_length is set to 100, but you input_length is only 63. You might consider decreasing max_length manually, e.g. summarizer('...', max_length=31)\n"
     ]
    },
    {
     "name": "stdout",
     "output_type": "stream",
     "text": [
      "### Topic: Human Capital Development ###\n"
     ]
    },
    {
     "name": "stderr",
     "output_type": "stream",
     "text": [
      "Your max_length is set to 100, but you input_length is only 63. You might consider decreasing max_length manually, e.g. summarizer('...', max_length=31)\n"
     ]
    },
    {
     "name": "stdout",
     "output_type": "stream",
     "text": [
      "### Topic: Innovation Management ###\n",
      "### Topic: Talent Attraction & Retention ###\n",
      "### Topic: Information Security Cybersecurity & System Availability ###\n",
      "### Topic: Operational Eco-Efficiency ###\n"
     ]
    },
    {
     "name": "stderr",
     "output_type": "stream",
     "text": [
      "Your max_length is set to 100, but you input_length is only 60. You might consider decreasing max_length manually, e.g. summarizer('...', max_length=30)\n"
     ]
    },
    {
     "name": "stdout",
     "output_type": "stream",
     "text": [
      "### Topic: Climate Strategy ###\n",
      "Summarizing LIN\n",
      "### Topic: Human Capital Development ###\n"
     ]
    },
    {
     "name": "stderr",
     "output_type": "stream",
     "text": [
      "Your max_length is set to 100, but you input_length is only 50. You might consider decreasing max_length manually, e.g. summarizer('...', max_length=25)\n"
     ]
    },
    {
     "name": "stdout",
     "output_type": "stream",
     "text": [
      "### Topic: Innovation Management ###\n"
     ]
    },
    {
     "name": "stderr",
     "output_type": "stream",
     "text": [
      "Your max_length is set to 100, but you input_length is only 50. You might consider decreasing max_length manually, e.g. summarizer('...', max_length=25)\n"
     ]
    },
    {
     "name": "stdout",
     "output_type": "stream",
     "text": [
      "### Topic: Climate Strategy ###\n",
      "### Topic: Operational Eco-Efficiency ###\n",
      "### Topic: Product Stewardship ###\n",
      "### Topic: Talent Attraction & Retention ###\n",
      "### Topic: Business Ethics ###\n",
      "### Topic: Water Related Risks ###\n"
     ]
    },
    {
     "name": "stderr",
     "output_type": "stream",
     "text": [
      "Your max_length is set to 100, but you input_length is only 29. You might consider decreasing max_length manually, e.g. summarizer('...', max_length=14)\n"
     ]
    },
    {
     "name": "stdout",
     "output_type": "stream",
     "text": [
      "### Topic: Occupational Health & Safety ###\n",
      "Summarizing CSCO\n",
      "### Topic: Environmental Policy & Management Systems ###\n",
      "### Topic: Human Capital Development ###\n",
      "### Topic: Innovation Management ###\n",
      "### Topic: Talent Attraction & Retention ###\n",
      "### Topic: Information Security Cybersecurity & System Availability ###\n"
     ]
    },
    {
     "name": "stderr",
     "output_type": "stream",
     "text": [
      "Your max_length is set to 100, but you input_length is only 52. You might consider decreasing max_length manually, e.g. summarizer('...', max_length=26)\n"
     ]
    },
    {
     "name": "stdout",
     "output_type": "stream",
     "text": [
      "### Topic: Supply Chain Management ###\n"
     ]
    },
    {
     "name": "stderr",
     "output_type": "stream",
     "text": [
      "Your max_length is set to 100, but you input_length is only 84. You might consider decreasing max_length manually, e.g. summarizer('...', max_length=42)\n"
     ]
    },
    {
     "name": "stdout",
     "output_type": "stream",
     "text": [
      "### Topic: Operational Eco-Efficiency ###\n",
      "### Topic: Product Stewardship ###\n",
      "Summarizing VZ\n",
      "### Topic: Climate Strategy ###\n",
      "### Topic: Information Security Cybersecurity & System Availability ###\n"
     ]
    },
    {
     "name": "stderr",
     "output_type": "stream",
     "text": [
      "Your max_length is set to 100, but you input_length is only 99. You might consider decreasing max_length manually, e.g. summarizer('...', max_length=49)\n"
     ]
    },
    {
     "name": "stdout",
     "output_type": "stream",
     "text": [
      "### Topic: Network Reliability ###\n"
     ]
    },
    {
     "name": "stderr",
     "output_type": "stream",
     "text": [
      "Your max_length is set to 100, but you input_length is only 88. You might consider decreasing max_length manually, e.g. summarizer('...', max_length=44)\n"
     ]
    },
    {
     "name": "stdout",
     "output_type": "stream",
     "text": [
      "### Topic: Operational Eco-Efficiency ###\n",
      "### Topic: Risk & Crisis Management ###\n",
      "### Topic: Human Capital Development ###\n",
      "### Topic: Biodiversity ###\n",
      "Summarizing BAC\n",
      "### Topic: Talent Attraction & Retention ###\n",
      "### Topic: Financial Inclusion ###\n",
      "### Topic: Human Capital Development ###\n"
     ]
    },
    {
     "name": "stderr",
     "output_type": "stream",
     "text": [
      "Your max_length is set to 100, but you input_length is only 43. You might consider decreasing max_length manually, e.g. summarizer('...', max_length=21)\n"
     ]
    },
    {
     "name": "stdout",
     "output_type": "stream",
     "text": [
      "### Topic: Risk & Crisis Management ###\n",
      "### Topic: Decarbonization Strategy ###\n",
      "### Topic: Corporate Governance ###\n",
      "### Topic: Business Ethics ###\n",
      "### Topic: Sustainable Finance ###\n",
      "### Topic: Climate Strategy ###\n"
     ]
    }
   ],
   "source": [
    "company_summary_sentences = {}\n",
    "\n",
    "for company, data in company_topic_sentences.items():\n",
    "    print(f\"Summarizing {company}\")\n",
    "    output = {}\n",
    "\n",
    "    for topic, sentences in data.items():\n",
    "        print(f\"### Topic: {topic} ###\")\n",
    "\n",
    "        input_sentences = \" \".join(sentences[:20]) # Top 20 sentences\n",
    "        reference_summary = sentences[:40] # reference summary don't change\n",
    "        summary_list = summarize_text(input_sentences)\n",
    "        combined_summary = summary_list[0]['summary_text']\n",
    "        for summary in summary_list[1:]:\n",
    "            combined_summary += summary['summary_text']\n",
    "        output[topic] = (combined_summary, \" \".join(reference_summary))\n",
    "    if company not in company_summary_sentences:\n",
    "        company_summary_sentences[company] = {}\n",
    "    company_summary_sentences[company] = output\n",
    "\n",
    "    output_df = pd.DataFrame.from_dict(output, orient='index')\n",
    "    output_df.to_csv(f\"Generated Summaries/final/{company}_top20_summaries.csv\")"
   ]
  },
  {
   "cell_type": "code",
   "execution_count": null,
   "metadata": {},
   "outputs": [],
   "source": [
    "company_summary_sentences = {}\n",
    "\n",
    "for company, data in company_topic_sentences.items():\n",
    "    print(f\"Summarizing {company}\")\n",
    "    output = {}\n",
    "\n",
    "    for topic, sentences in data.items():\n",
    "        print(f\"### Topic: {topic} ###\")\n",
    "\n",
    "        input_sentences = \" \".join(sentences[:30]) # Top 30 sentences\n",
    "        reference_summary = sentences[:40] # reference summary don't change\n",
    "        summary_list = summarize_text(input_sentences)\n",
    "        combined_summary = summary_list[0]['summary_text']\n",
    "        for summary in summary_list[1:]:\n",
    "            combined_summary += summary['summary_text']\n",
    "        output[topic] = (combined_summary, \" \".join(reference_summary))\n",
    "    if company not in company_summary_sentences:\n",
    "        company_summary_sentences[company] = {}\n",
    "    company_summary_sentences[company] = output\n",
    "\n",
    "    output_df = pd.DataFrame.from_dict(output, orient='index')\n",
    "    output_df.to_csv(f\"Generated Summaries/final/{company}_top30_summaries.csv\")"
   ]
  },
  {
   "attachments": {},
   "cell_type": "markdown",
   "metadata": {},
   "source": [
    "#### Input used for summarization : Random 20/30 Sentences"
   ]
  },
  {
   "cell_type": "code",
   "execution_count": 71,
   "metadata": {},
   "outputs": [
    {
     "name": "stdout",
     "output_type": "stream",
     "text": [
      "Summarizing DHR\n",
      "### Topic: Human Capital Development ###\n",
      "### Topic: Innovation Management ###\n",
      "### Topic: Operational Eco-Efficiency ###\n",
      "### Topic: Talent Attraction & Retention ###\n",
      "### Topic: Climate Strategy ###\n",
      "### Topic: Business Ethics ###\n",
      "### Topic: Risk & Crisis Management ###\n",
      "### Topic: Supply Chain Management ###\n",
      "Summarizing ABT\n",
      "### Topic: Talent Attraction & Retention ###\n",
      "### Topic: Supply Chain Management ###\n",
      "### Topic: Business Ethics ###\n",
      "### Topic: Human Capital Development ###\n",
      "### Topic: Innovation Management ###\n",
      "### Topic: Health Outcome Contribution ###\n"
     ]
    },
    {
     "name": "stderr",
     "output_type": "stream",
     "text": [
      "Your max_length is set to 100, but you input_length is only 58. You might consider decreasing max_length manually, e.g. summarizer('...', max_length=29)\n"
     ]
    },
    {
     "name": "stdout",
     "output_type": "stream",
     "text": [
      "### Topic: Product Quality & Recall Management ###\n",
      "### Topic: Operational Eco-Efficiency ###\n",
      "Summarizing INTC\n",
      "### Topic: Product Stewardship ###\n",
      "### Topic: Climate Strategy ###\n",
      "### Topic: Environmental Policy & Management Systems ###\n",
      "### Topic: Talent Attraction & Retention ###\n",
      "### Topic: Operational Eco-Efficiency ###\n",
      "### Topic: Supply Chain Management ###\n",
      "### Topic: Human Capital Development ###\n",
      "### Topic: Innovation Management ###\n",
      "### Topic: Product Quality & Recall Management ###\n",
      "Summarizing BMY\n",
      "### Topic: Business Ethics ###\n",
      "### Topic: Human Capital Development ###\n",
      "### Topic: Innovation Management ###\n",
      "### Topic: Access to Healthcare ###\n"
     ]
    },
    {
     "name": "stderr",
     "output_type": "stream",
     "text": [
      "Your max_length is set to 100, but you input_length is only 22. You might consider decreasing max_length manually, e.g. summarizer('...', max_length=11)\n",
      "Your max_length is set to 100, but you input_length is only 3. You might consider decreasing max_length manually, e.g. summarizer('...', max_length=1)\n"
     ]
    },
    {
     "name": "stdout",
     "output_type": "stream",
     "text": [
      "### Topic: Talent Attraction & Retention ###\n"
     ]
    },
    {
     "name": "stderr",
     "output_type": "stream",
     "text": [
      "Your max_length is set to 100, but you input_length is only 3. You might consider decreasing max_length manually, e.g. summarizer('...', max_length=1)\n"
     ]
    },
    {
     "name": "stdout",
     "output_type": "stream",
     "text": [
      "### Topic: Health Outcome Contribution ###\n",
      "### Topic: Operational Eco-Efficiency ###\n",
      "### Topic: Product Quality & Recall Management ###\n",
      "Summarizing QCOM\n",
      "### Topic: Human Capital Development ###\n",
      "### Topic: Innovation Management ###\n",
      "### Topic: Environmental Policy & Management Systems ###\n",
      "### Topic: Talent Attraction & Retention ###\n"
     ]
    },
    {
     "name": "stderr",
     "output_type": "stream",
     "text": [
      "Your max_length is set to 100, but you input_length is only 39. You might consider decreasing max_length manually, e.g. summarizer('...', max_length=19)\n"
     ]
    },
    {
     "name": "stdout",
     "output_type": "stream",
     "text": [
      "### Topic: Operational Eco-Efficiency ###\n",
      "### Topic: Climate Strategy ###\n",
      "### Topic: Product Stewardship ###\n",
      "### Topic: Supply Chain Management ###\n",
      "### Topic: Product Quality & Recall Management ###\n",
      "Summarizing ACN\n",
      "### Topic: Talent Attraction & Retention ###\n"
     ]
    },
    {
     "name": "stderr",
     "output_type": "stream",
     "text": [
      "Your max_length is set to 100, but you input_length is only 56. You might consider decreasing max_length manually, e.g. summarizer('...', max_length=28)\n"
     ]
    },
    {
     "name": "stdout",
     "output_type": "stream",
     "text": [
      "### Topic: Human Capital Development ###\n",
      "### Topic: Innovation Management ###\n",
      "### Topic: Operational Eco-Efficiency ###\n",
      "### Topic: Climate Strategy ###\n",
      "### Topic: Environmental Policy & Management Systems ###\n"
     ]
    },
    {
     "name": "stderr",
     "output_type": "stream",
     "text": [
      "Your max_length is set to 100, but you input_length is only 90. You might consider decreasing max_length manually, e.g. summarizer('...', max_length=45)\n"
     ]
    },
    {
     "name": "stdout",
     "output_type": "stream",
     "text": [
      "### Topic: Information Security Cybersecurity & System Availability ###\n",
      "Summarizing UPS\n",
      "### Topic: Stakeholder Engagement ###\n",
      "### Topic: Risk & Crisis Management ###\n",
      "### Topic: Talent Attraction & Retention ###\n",
      "### Topic: Occupational Health & Safety ###\n",
      "### Topic: Climate Strategy ###\n"
     ]
    },
    {
     "name": "stderr",
     "output_type": "stream",
     "text": [
      "Your max_length is set to 100, but you input_length is only 66. You might consider decreasing max_length manually, e.g. summarizer('...', max_length=33)\n"
     ]
    },
    {
     "name": "stdout",
     "output_type": "stream",
     "text": [
      "### Topic: Operational Eco-Efficiency ###\n",
      "Summarizing PM\n",
      "### Topic: Business Ethics ###\n",
      "### Topic: Human Capital Development ###\n",
      "### Topic: Innovation Management ###\n",
      "### Topic: Human Rights ###\n",
      "### Topic: Sustainable Agricultural Practices ###\n",
      "### Topic: Supply Chain Management ###\n",
      "### Topic: Occupational Health & Safety ###\n",
      "### Topic: Climate Strategy ###\n",
      "### Topic: Operational Eco-Efficiency ###\n"
     ]
    },
    {
     "name": "stderr",
     "output_type": "stream",
     "text": [
      "Your max_length is set to 100, but you input_length is only 82. You might consider decreasing max_length manually, e.g. summarizer('...', max_length=41)\n"
     ]
    },
    {
     "name": "stdout",
     "output_type": "stream",
     "text": [
      "Summarizing MCD\n",
      "### Topic: Human Rights ###\n",
      "### Topic: Supply Chain Management ###\n",
      "### Topic: Labor Practice Indicators ###\n",
      "### Topic: Climate Strategy ###\n"
     ]
    },
    {
     "name": "stderr",
     "output_type": "stream",
     "text": [
      "Your max_length is set to 100, but you input_length is only 75. You might consider decreasing max_length manually, e.g. summarizer('...', max_length=37)\n"
     ]
    },
    {
     "name": "stdout",
     "output_type": "stream",
     "text": [
      "### Topic: Business Ethics ###\n",
      "### Topic: Operational Eco-Efficiency ###\n",
      "### Topic: Biodiversity ###\n"
     ]
    },
    {
     "name": "stderr",
     "output_type": "stream",
     "text": [
      "Your max_length is set to 100, but you input_length is only 99. You might consider decreasing max_length manually, e.g. summarizer('...', max_length=49)\n"
     ]
    },
    {
     "name": "stdout",
     "output_type": "stream",
     "text": [
      "### Topic: Occupational Health & Safety ###\n",
      "Summarizing NKE\n",
      "### Topic: Human Rights ###\n",
      "### Topic: Occupational Health & Safety ###\n",
      "### Topic: Climate Strategy ###\n",
      "### Topic: Product Stewardship ###\n",
      "### Topic: Sustainable Marketing & Brand Perception ###\n",
      "### Topic: Circular Fashion ###\n",
      "### Topic: Risk & Crisis Management ###\n",
      "### Topic: Supply Chain Management ###\n"
     ]
    },
    {
     "name": "stderr",
     "output_type": "stream",
     "text": [
      "Your max_length is set to 100, but you input_length is only 47. You might consider decreasing max_length manually, e.g. summarizer('...', max_length=23)\n"
     ]
    },
    {
     "name": "stdout",
     "output_type": "stream",
     "text": [
      "### Topic: Labor Practice Indicators ###\n"
     ]
    },
    {
     "name": "stderr",
     "output_type": "stream",
     "text": [
      "Your max_length is set to 100, but you input_length is only 44. You might consider decreasing max_length manually, e.g. summarizer('...', max_length=22)\n"
     ]
    },
    {
     "name": "stdout",
     "output_type": "stream",
     "text": [
      "Summarizing NFLX\n",
      "### Topic: Responsibility of Content ###\n",
      "### Topic: Operational Eco-Efficiency ###\n",
      "### Topic: Climate Strategy ###\n",
      "### Topic: Human Capital Development ###\n"
     ]
    },
    {
     "name": "stderr",
     "output_type": "stream",
     "text": [
      "Your max_length is set to 100, but you input_length is only 73. You might consider decreasing max_length manually, e.g. summarizer('...', max_length=36)\n"
     ]
    },
    {
     "name": "stdout",
     "output_type": "stream",
     "text": [
      "### Topic: Sustainable Marketing & Brand Perception ###\n",
      "### Topic: Information Security Cybersecurity & System Availability ###\n",
      "### Topic: Talent Attraction & Retention ###\n"
     ]
    },
    {
     "name": "stderr",
     "output_type": "stream",
     "text": [
      "Your max_length is set to 100, but you input_length is only 87. You might consider decreasing max_length manually, e.g. summarizer('...', max_length=43)\n"
     ]
    },
    {
     "name": "stdout",
     "output_type": "stream",
     "text": [
      "### Topic: Labor Practice Indicators ###\n",
      "Summarizing AMGN\n",
      "### Topic: Business Ethics ###\n",
      "### Topic: Product Quality & Recall Management ###\n",
      "### Topic: Human Capital Development ###\n",
      "### Topic: Innovation Management ###\n",
      "### Topic: Access to Healthcare ###\n",
      "### Topic: Talent Attraction & Retention ###\n",
      "### Topic: Health Outcome Contribution ###\n",
      "### Topic: Operational Eco-Efficiency ###\n",
      "Summarizing DIS\n",
      "### Topic: Talent Attraction & Retention ###\n",
      "### Topic: Information Security Cybersecurity & System Availability ###\n",
      "### Topic: Operational Eco-Efficiency ###\n",
      "### Topic: Responsibility of Content ###\n",
      "### Topic: Human Capital Development ###\n",
      "### Topic: Sustainable Marketing & Brand Perception ###\n"
     ]
    },
    {
     "name": "stderr",
     "output_type": "stream",
     "text": [
      "Your max_length is set to 100, but you input_length is only 47. You might consider decreasing max_length manually, e.g. summarizer('...', max_length=23)\n"
     ]
    },
    {
     "name": "stdout",
     "output_type": "stream",
     "text": [
      "### Topic: Labor Practice Indicators ###\n"
     ]
    },
    {
     "name": "stderr",
     "output_type": "stream",
     "text": [
      "Your max_length is set to 100, but you input_length is only 24. You might consider decreasing max_length manually, e.g. summarizer('...', max_length=12)\n",
      "Your max_length is set to 100, but you input_length is only 22. You might consider decreasing max_length manually, e.g. summarizer('...', max_length=11)\n"
     ]
    },
    {
     "name": "stdout",
     "output_type": "stream",
     "text": [
      "### Topic: Climate Strategy ###\n",
      "Summarizing CMCSA\n",
      "### Topic: Responsibility of Content ###\n"
     ]
    },
    {
     "name": "stderr",
     "output_type": "stream",
     "text": [
      "Your max_length is set to 100, but you input_length is only 45. You might consider decreasing max_length manually, e.g. summarizer('...', max_length=22)\n"
     ]
    },
    {
     "name": "stdout",
     "output_type": "stream",
     "text": [
      "### Topic: Labor Practice Indicators ###\n",
      "### Topic: Talent Attraction & Retention ###\n",
      "### Topic: Operational Eco-Efficiency ###\n",
      "Summarizing WFC\n",
      "### Topic: Business Ethics ###\n",
      "### Topic: Risk & Crisis Management ###\n",
      "### Topic: Decarbonization Strategy ###\n"
     ]
    },
    {
     "name": "stderr",
     "output_type": "stream",
     "text": [
      "Your max_length is set to 100, but you input_length is only 50. You might consider decreasing max_length manually, e.g. summarizer('...', max_length=25)\n"
     ]
    },
    {
     "name": "stdout",
     "output_type": "stream",
     "text": [
      "### Topic: Climate Strategy ###\n"
     ]
    },
    {
     "name": "stderr",
     "output_type": "stream",
     "text": [
      "Your max_length is set to 100, but you input_length is only 76. You might consider decreasing max_length manually, e.g. summarizer('...', max_length=38)\n"
     ]
    },
    {
     "name": "stdout",
     "output_type": "stream",
     "text": [
      "### Topic: Human Capital Development ###\n"
     ]
    },
    {
     "name": "stderr",
     "output_type": "stream",
     "text": [
      "Your max_length is set to 100, but you input_length is only 3. You might consider decreasing max_length manually, e.g. summarizer('...', max_length=1)\n"
     ]
    },
    {
     "name": "stdout",
     "output_type": "stream",
     "text": [
      "### Topic: Talent Attraction & Retention ###\n"
     ]
    },
    {
     "name": "stderr",
     "output_type": "stream",
     "text": [
      "Your max_length is set to 100, but you input_length is only 3. You might consider decreasing max_length manually, e.g. summarizer('...', max_length=1)\n"
     ]
    },
    {
     "name": "stdout",
     "output_type": "stream",
     "text": [
      "### Topic: Financial Inclusion ###\n"
     ]
    },
    {
     "name": "stderr",
     "output_type": "stream",
     "text": [
      "Your max_length is set to 100, but you input_length is only 3. You might consider decreasing max_length manually, e.g. summarizer('...', max_length=1)\n"
     ]
    },
    {
     "name": "stdout",
     "output_type": "stream",
     "text": [
      "### Topic: Sustainable Finance ###\n"
     ]
    },
    {
     "name": "stderr",
     "output_type": "stream",
     "text": [
      "Your max_length is set to 100, but you input_length is only 44. You might consider decreasing max_length manually, e.g. summarizer('...', max_length=22)\n",
      "Your max_length is set to 100, but you input_length is only 72. You might consider decreasing max_length manually, e.g. summarizer('...', max_length=36)\n"
     ]
    },
    {
     "name": "stdout",
     "output_type": "stream",
     "text": [
      "### Topic: Corporate Governance ###\n",
      "Summarizing RTX\n",
      "### Topic: Supply Chain Management ###\n",
      "### Topic: Human Rights ###\n",
      "### Topic: Climate Strategy ###\n",
      "### Topic: Operational Eco-Efficiency ###\n",
      "### Topic: Product Stewardship ###\n",
      "### Topic: Business Ethics ###\n",
      "### Topic: Human Capital Development ###\n",
      "### Topic: Compliance with Applicable Export Control Regimes ###\n"
     ]
    },
    {
     "name": "stderr",
     "output_type": "stream",
     "text": [
      "Your max_length is set to 100, but you input_length is only 79. You might consider decreasing max_length manually, e.g. summarizer('...', max_length=39)\n"
     ]
    },
    {
     "name": "stdout",
     "output_type": "stream",
     "text": [
      "### Topic: Occupational Health & Safety ###\n",
      "Summarizing TXN\n",
      "### Topic: Operational Eco-Efficiency ###\n",
      "### Topic: Talent Attraction & Retention ###\n",
      "### Topic: Product Stewardship ###\n",
      "### Topic: Human Capital Development ###\n",
      "### Topic: Innovation Management ###\n",
      "### Topic: Environmental Policy & Management Systems ###\n",
      "### Topic: Climate Strategy ###\n",
      "### Topic: Supply Chain Management ###\n"
     ]
    },
    {
     "name": "stderr",
     "output_type": "stream",
     "text": [
      "Your max_length is set to 100, but you input_length is only 66. You might consider decreasing max_length manually, e.g. summarizer('...', max_length=33)\n"
     ]
    },
    {
     "name": "stdout",
     "output_type": "stream",
     "text": [
      "### Topic: Product Quality & Recall Management ###\n",
      "Summarizing NEE\n",
      "### Topic: Climate Strategy ###\n",
      "### Topic: Operational Eco-Efficiency ###\n"
     ]
    },
    {
     "name": "stderr",
     "output_type": "stream",
     "text": [
      "Your max_length is set to 100, but you input_length is only 91. You might consider decreasing max_length manually, e.g. summarizer('...', max_length=45)\n"
     ]
    },
    {
     "name": "stdout",
     "output_type": "stream",
     "text": [
      "### Topic: Electricity Generation ###\n"
     ]
    },
    {
     "name": "stderr",
     "output_type": "stream",
     "text": [
      "Your max_length is set to 100, but you input_length is only 75. You might consider decreasing max_length manually, e.g. summarizer('...', max_length=37)\n"
     ]
    },
    {
     "name": "stdout",
     "output_type": "stream",
     "text": [
      "### Topic: Stakeholder Engagement ###\n"
     ]
    },
    {
     "name": "stderr",
     "output_type": "stream",
     "text": [
      "Your max_length is set to 100, but you input_length is only 43. You might consider decreasing max_length manually, e.g. summarizer('...', max_length=21)\n"
     ]
    },
    {
     "name": "stdout",
     "output_type": "stream",
     "text": [
      "### Topic: Market Opportunities ###\n",
      "### Topic: Risk & Crisis Management ###\n",
      "### Topic: Talent Attraction & Retention ###\n"
     ]
    },
    {
     "name": "stderr",
     "output_type": "stream",
     "text": [
      "Your max_length is set to 100, but you input_length is only 20. You might consider decreasing max_length manually, e.g. summarizer('...', max_length=10)\n"
     ]
    },
    {
     "name": "stdout",
     "output_type": "stream",
     "text": [
      "### Topic: Business Ethics ###\n",
      "### Topic: Occupational Health & Safety ###\n",
      "Summarizing T\n",
      "### Topic: Human Capital Development ###\n",
      "### Topic: Risk & Crisis Management ###\n",
      "### Topic: Information Security Cybersecurity & System Availability ###\n",
      "### Topic: Network Reliability ###\n",
      "### Topic: Operational Eco-Efficiency ###\n",
      "### Topic: Climate Strategy ###\n"
     ]
    },
    {
     "name": "stderr",
     "output_type": "stream",
     "text": [
      "Your max_length is set to 100, but you input_length is only 44. You might consider decreasing max_length manually, e.g. summarizer('...', max_length=22)\n",
      "Your max_length is set to 100, but you input_length is only 41. You might consider decreasing max_length manually, e.g. summarizer('...', max_length=20)\n"
     ]
    },
    {
     "name": "stdout",
     "output_type": "stream",
     "text": [
      "### Topic: Biodiversity ###\n",
      "Summarizing AMD\n",
      "### Topic: Supply Chain Management ###\n",
      "### Topic: Product Stewardship ###\n",
      "### Topic: Environmental Policy & Management Systems ###\n",
      "### Topic: Climate Strategy ###\n",
      "### Topic: Talent Attraction & Retention ###\n",
      "### Topic: Operational Eco-Efficiency ###\n",
      "### Topic: Human Capital Development ###\n",
      "### Topic: Innovation Management ###\n",
      "### Topic: Product Quality & Recall Management ###\n",
      "Summarizing ADBE\n",
      "### Topic: Environmental Policy & Management Systems ###\n"
     ]
    },
    {
     "name": "stderr",
     "output_type": "stream",
     "text": [
      "Your max_length is set to 100, but you input_length is only 63. You might consider decreasing max_length manually, e.g. summarizer('...', max_length=31)\n"
     ]
    },
    {
     "name": "stdout",
     "output_type": "stream",
     "text": [
      "### Topic: Human Capital Development ###\n"
     ]
    },
    {
     "name": "stderr",
     "output_type": "stream",
     "text": [
      "Your max_length is set to 100, but you input_length is only 63. You might consider decreasing max_length manually, e.g. summarizer('...', max_length=31)\n"
     ]
    },
    {
     "name": "stdout",
     "output_type": "stream",
     "text": [
      "### Topic: Innovation Management ###\n",
      "### Topic: Talent Attraction & Retention ###\n",
      "### Topic: Information Security Cybersecurity & System Availability ###\n",
      "### Topic: Operational Eco-Efficiency ###\n"
     ]
    },
    {
     "name": "stderr",
     "output_type": "stream",
     "text": [
      "Your max_length is set to 100, but you input_length is only 60. You might consider decreasing max_length manually, e.g. summarizer('...', max_length=30)\n"
     ]
    },
    {
     "name": "stdout",
     "output_type": "stream",
     "text": [
      "### Topic: Climate Strategy ###\n",
      "Summarizing LIN\n",
      "### Topic: Human Capital Development ###\n",
      "### Topic: Innovation Management ###\n",
      "### Topic: Climate Strategy ###\n",
      "### Topic: Operational Eco-Efficiency ###\n",
      "### Topic: Product Stewardship ###\n",
      "### Topic: Talent Attraction & Retention ###\n",
      "### Topic: Business Ethics ###\n",
      "### Topic: Water Related Risks ###\n",
      "### Topic: Occupational Health & Safety ###\n",
      "Summarizing CSCO\n",
      "### Topic: Environmental Policy & Management Systems ###\n",
      "### Topic: Human Capital Development ###\n",
      "### Topic: Innovation Management ###\n",
      "### Topic: Talent Attraction & Retention ###\n",
      "### Topic: Information Security Cybersecurity & System Availability ###\n",
      "### Topic: Supply Chain Management ###\n",
      "### Topic: Operational Eco-Efficiency ###\n",
      "### Topic: Product Stewardship ###\n",
      "Summarizing VZ\n",
      "### Topic: Climate Strategy ###\n",
      "### Topic: Information Security Cybersecurity & System Availability ###\n",
      "### Topic: Network Reliability ###\n"
     ]
    },
    {
     "name": "stderr",
     "output_type": "stream",
     "text": [
      "Your max_length is set to 100, but you input_length is only 46. You might consider decreasing max_length manually, e.g. summarizer('...', max_length=23)\n"
     ]
    },
    {
     "name": "stdout",
     "output_type": "stream",
     "text": [
      "### Topic: Operational Eco-Efficiency ###\n",
      "### Topic: Risk & Crisis Management ###\n",
      "### Topic: Human Capital Development ###\n",
      "### Topic: Biodiversity ###\n",
      "Summarizing BAC\n",
      "### Topic: Talent Attraction & Retention ###\n",
      "### Topic: Financial Inclusion ###\n",
      "### Topic: Human Capital Development ###\n",
      "### Topic: Risk & Crisis Management ###\n",
      "### Topic: Decarbonization Strategy ###\n",
      "### Topic: Corporate Governance ###\n",
      "### Topic: Business Ethics ###\n",
      "### Topic: Sustainable Finance ###\n",
      "### Topic: Climate Strategy ###\n"
     ]
    }
   ],
   "source": [
    "import random\n",
    "random.seed(88)\n",
    "\n",
    "company_summary_sentences = {}\n",
    "\n",
    "for company, data in company_topic_sentences.items():\n",
    "    print(f\"Summarizing {company}\")\n",
    "    output = {}\n",
    "\n",
    "    for topic, sentences in data.items():\n",
    "        print(f\"### Topic: {topic} ###\")\n",
    "\n",
    "        input_sentences = sentences.copy()\n",
    "        random.shuffle(input_sentences)\n",
    "        input_sentences = \" \".join(input_sentences[:20])\n",
    "\n",
    "        reference_summary = sentences[:40] # reference summary don't change\n",
    "        summary_list = summarize_text(input_sentences)\n",
    "        combined_summary = summary_list[0]['summary_text']\n",
    "        for summary in summary_list[1:]:\n",
    "            combined_summary += summary['summary_text']\n",
    "        output[topic] = (combined_summary, \" \".join(reference_summary))\n",
    "    if company not in company_summary_sentences:\n",
    "        company_summary_sentences[company] = {}\n",
    "    company_summary_sentences[company] = output\n",
    "\n",
    "    output_df = pd.DataFrame.from_dict(output, orient='index')\n",
    "    output_df.to_csv(f\"Generated Summaries/final/{company}_random20_summaries.csv\")"
   ]
  },
  {
   "cell_type": "code",
   "execution_count": null,
   "metadata": {},
   "outputs": [],
   "source": [
    "import random\n",
    "random.seed(88)\n",
    "\n",
    "company_summary_sentences = {}\n",
    "\n",
    "for company, data in company_topic_sentences.items():\n",
    "    print(f\"Summarizing {company}\")\n",
    "    output = {}\n",
    "\n",
    "    for topic, sentences in data.items():\n",
    "        print(f\"### Topic: {topic} ###\")\n",
    "\n",
    "        input_sentences = sentences.copy()\n",
    "        random.shuffle(input_sentences)\n",
    "        input_sentences = \" \".join(input_sentences[:30])\n",
    "\n",
    "        reference_summary = sentences[:40] # reference summary don't change\n",
    "        summary_list = summarize_text(input_sentences)\n",
    "        combined_summary = summary_list[0]['summary_text']\n",
    "        for summary in summary_list[1:]:\n",
    "            combined_summary += summary['summary_text']\n",
    "        output[topic] = (combined_summary, \" \".join(reference_summary))\n",
    "    if company not in company_summary_sentences:\n",
    "        company_summary_sentences[company] = {}\n",
    "    company_summary_sentences[company] = output\n",
    "\n",
    "    output_df = pd.DataFrame.from_dict(output, orient='index')\n",
    "    output_df.to_csv(f\"Generated Summaries/final/{company}_random30_summaries.csv\")"
   ]
  },
  {
   "attachments": {},
   "cell_type": "markdown",
   "metadata": {},
   "source": [
    "### Evaluation with Rouge-N from Huggingface's Evaluate\n",
    "https://huggingface.co/spaces/evaluate-metric/rouge"
   ]
  },
  {
   "attachments": {},
   "cell_type": "markdown",
   "metadata": {},
   "source": [
    "### Comparing performance\n",
    "1. Top 20 sentences as input\n",
    "2. Top 30 sentences as input\n",
    "3. Random 20 sentences\n",
    "4. Random 30 sentences\n",
    "\n",
    "Reference Summary -> Top 40 sentences"
   ]
  },
  {
   "cell_type": "code",
   "execution_count": 12,
   "metadata": {},
   "outputs": [],
   "source": [
    "# Helper Function to compute ROUGE-N scores from Huggingface's evaluate library\n",
    "import evaluate\n",
    "def evaluateRouge(output):\n",
    "    output_results = {}\n",
    "    rouge = evaluate.load('rouge')\n",
    "    for idx, row in output.iterrows():\n",
    "        topic = row['Unnamed: 0']\n",
    "        generated = [row[1]]\n",
    "        reference = [row[2]]\n",
    "        results = rouge.compute(predictions=generated, references = reference)\n",
    "        output_results[topic] = results\n",
    "    return output_results"
   ]
  },
  {
   "cell_type": "code",
   "execution_count": null,
   "metadata": {},
   "outputs": [],
   "source": [
    "# Helper Function to calculate the average ROUGE-N score \n",
    "def averageEvaluation(results):\n",
    "    output_dict = {\n",
    "        'rouge1': 0,\n",
    "        'rouge2': 0,\n",
    "        'rougeL': 0,\n",
    "        'rougeLsum': 0\n",
    "    }\n",
    "    for topic, rougeData in results.items():\n",
    "        output_dict['rouge1'] = sum(val['rouge1'] for val in results.values())/len(results)\n",
    "        output_dict['rouge2'] = sum(val['rouge2'] for val in results.values())/len(results)\n",
    "        output_dict['rougeL'] = sum(val['rougeL'] for val in results.values())/len(results)\n",
    "        output_dict['rougeLsum'] = sum(val['rougeLsum'] for val in results.values())/len(results)\n",
    "    return output_dict"
   ]
  },
  {
   "cell_type": "code",
   "execution_count": 26,
   "metadata": {},
   "outputs": [],
   "source": [
    "# For each company, compute average ROUGE-N scores across all generated summaries\n",
    "import os\n",
    "generated_summaries_path = \"./Generated Summaries/final/\"\n",
    "\n",
    "evaluation_results = {}\n",
    "\n",
    "for filename in os.listdir(generated_summaries_path):\n",
    "    summaries = pd.read_csv(generated_summaries_path + filename)\n",
    "    summaries_result = evaluateRouge(summaries)\n",
    "    company = filename.split(\"_\")[0]\n",
    "    input_type = filename.split(\"_\")[1]\n",
    "    if input_type not in evaluation_results:\n",
    "        evaluation_results[input_type] = {}\n",
    "    evaluation_results[input_type][company] = averageEvaluation(summaries_result)    "
   ]
  },
  {
   "cell_type": "code",
   "execution_count": 42,
   "metadata": {},
   "outputs": [],
   "source": [
    "# Save evaluation data as pickle file to reopen for review\n",
    "import pickle\n",
    "\n",
    "save_file = False # Set as true if you want to save the evaluation_results dictionary as pickle file\n",
    "\n",
    "if save_file: # save evaluation results as pickle file\n",
    "    file_to_save = open('Evaluation_Result', 'ab')\n",
    "    pickle.dump(evaluation_results, file_to_save)\n",
    "    save_file.close()\n",
    "else: # Set as false to open the file\n",
    "    saved_file = open('Evaluation_Result', 'rb')\n",
    "    evaluation_results = pickle.load(saved_file)"
   ]
  },
  {
   "cell_type": "code",
   "execution_count": 41,
   "metadata": {},
   "outputs": [
    {
     "data": {
      "text/html": [
       "<div>\n",
       "<style scoped>\n",
       "    .dataframe tbody tr th:only-of-type {\n",
       "        vertical-align: middle;\n",
       "    }\n",
       "\n",
       "    .dataframe tbody tr th {\n",
       "        vertical-align: top;\n",
       "    }\n",
       "\n",
       "    .dataframe thead th {\n",
       "        text-align: right;\n",
       "    }\n",
       "</style>\n",
       "<table border=\"1\" class=\"dataframe\">\n",
       "  <thead>\n",
       "    <tr style=\"text-align: right;\">\n",
       "      <th></th>\n",
       "      <th>rouge1</th>\n",
       "      <th>rouge2</th>\n",
       "      <th>rougeL</th>\n",
       "      <th>rougeLsum</th>\n",
       "    </tr>\n",
       "  </thead>\n",
       "  <tbody>\n",
       "    <tr>\n",
       "      <th>random20</th>\n",
       "      <td>0.225192</td>\n",
       "      <td>0.200951</td>\n",
       "      <td>0.172540</td>\n",
       "      <td>0.172540</td>\n",
       "    </tr>\n",
       "    <tr>\n",
       "      <th>random30</th>\n",
       "      <td>0.251613</td>\n",
       "      <td>0.222382</td>\n",
       "      <td>0.181262</td>\n",
       "      <td>0.181262</td>\n",
       "    </tr>\n",
       "    <tr>\n",
       "      <th>top20</th>\n",
       "      <td>0.218464</td>\n",
       "      <td>0.206740</td>\n",
       "      <td>0.197760</td>\n",
       "      <td>0.197760</td>\n",
       "    </tr>\n",
       "    <tr>\n",
       "      <th>top30</th>\n",
       "      <td>0.246358</td>\n",
       "      <td>0.232508</td>\n",
       "      <td>0.223546</td>\n",
       "      <td>0.223546</td>\n",
       "    </tr>\n",
       "  </tbody>\n",
       "</table>\n",
       "</div>"
      ],
      "text/plain": [
       "            rouge1    rouge2    rougeL  rougeLsum\n",
       "random20  0.225192  0.200951  0.172540   0.172540\n",
       "random30  0.251613  0.222382  0.181262   0.181262\n",
       "top20     0.218464  0.206740  0.197760   0.197760\n",
       "top30     0.246358  0.232508  0.223546   0.223546"
      ]
     },
     "execution_count": 41,
     "metadata": {},
     "output_type": "execute_result"
    }
   ],
   "source": [
    "# Calculate Average ROUGE-N scores across types of inputs (Top20/Top30/Random20/Random30)\n",
    "show_evaluation = {}\n",
    "for k,v in evaluation_results.items():\n",
    "    show_evaluation[k] = {\n",
    "        'rouge1': 0,\n",
    "        'rouge2': 0,\n",
    "        'rougeL': 0,\n",
    "        'rougeLsum': 0\n",
    "    }\n",
    "\n",
    "    show_evaluation[k]['rouge1'] = sum(val['rouge1'] for val in v.values())/len(v)\n",
    "    show_evaluation[k]['rouge2'] = sum(val['rouge2'] for val in v.values())/len(v)\n",
    "    show_evaluation[k]['rougeL'] = sum(val['rougeL'] for val in v.values())/len(v)\n",
    "    show_evaluation[k]['rougeLsum'] = sum(val['rougeLsum'] for val in v.values())/len(v)\n",
    "\n",
    "pd.DataFrame.from_dict(show_evaluation, orient='index').sort_index()"
   ]
  }
 ],
 "metadata": {
  "kernelspec": {
   "display_name": "prosam",
   "language": "python",
   "name": "python3"
  },
  "language_info": {
   "codemirror_mode": {
    "name": "ipython",
    "version": 3
   },
   "file_extension": ".py",
   "mimetype": "text/x-python",
   "name": "python",
   "nbconvert_exporter": "python",
   "pygments_lexer": "ipython3",
   "version": "3.7.7"
  },
  "orig_nbformat": 4,
  "vscode": {
   "interpreter": {
    "hash": "2f00d82125af2013b743adbe5664b563fb3fff0416a803f3f6c5f16aed73ac2c"
   }
  }
 },
 "nbformat": 4,
 "nbformat_minor": 2
}
